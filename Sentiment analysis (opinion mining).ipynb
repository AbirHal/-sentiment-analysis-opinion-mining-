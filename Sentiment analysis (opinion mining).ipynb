{
  "cells": [
    {
      "cell_type": "markdown",
      "metadata": {
        "id": "mEkMTrSAhRXM"
      },
      "source": [
        "**Load the libraries**"
      ]
    },
    {
      "cell_type": "code",
      "execution_count": null,
      "metadata": {
        "colab": {
          "base_uri": "https://localhost:8080/"
        },
        "id": "pWIlc6QdJWTG",
        "outputId": "d59fac03-e34f-42e9-86f8-4d687375748f"
      },
      "outputs": [
        {
          "output_type": "stream",
          "name": "stderr",
          "text": [
            "[nltk_data] Downloading package wordnet to /root/nltk_data...\n",
            "[nltk_data] Downloading package stopwords to /root/nltk_data...\n",
            "[nltk_data]   Unzipping corpora/stopwords.zip.\n"
          ]
        },
        {
          "output_type": "execute_result",
          "data": {
            "text/plain": [
              "True"
            ]
          },
          "metadata": {},
          "execution_count": 1
        }
      ],
      "source": [
        "import pandas as pd\n",
        "import numpy as np\n",
        "import matplotlib.pyplot as plt\n",
        "import seaborn as sns\n",
        "plt.style.use('ggplot')\n",
        "import nltk\n",
        "from nltk.stem import PorterStemmer,WordNetLemmatizer\n",
        "import regex as re\n",
        "from nltk.corpus import stopwords\n",
        "from nltk.tokenize import word_tokenize\n",
        "import nltk\n",
        "#nltk.download('punkt')\n",
        "nltk.download('wordnet')\n",
        "#nltk.download('averaged_perceptron_tagger')\n",
        "nltk.download('stopwords')\n"
      ]
    },
    {
      "cell_type": "code",
      "execution_count": null,
      "metadata": {
        "colab": {
          "base_uri": "https://localhost:8080/"
        },
        "id": "LfE3a7msKXvP",
        "outputId": "285e667e-b352-417c-c713-0892d985a90f"
      },
      "outputs": [
        {
          "output_type": "stream",
          "name": "stdout",
          "text": [
            "Collecting texthero==1.0.5\n",
            "  Downloading texthero-1.0.5-py3-none-any.whl (12 kB)\n",
            "Requirement already satisfied: nltk in /usr/local/lib/python3.10/dist-packages (from texthero==1.0.5) (3.8.1)\n",
            "Requirement already satisfied: scikit-learn in /usr/local/lib/python3.10/dist-packages (from texthero==1.0.5) (1.2.2)\n",
            "Collecting plotly-express (from texthero==1.0.5)\n",
            "  Downloading plotly_express-0.4.1-py2.py3-none-any.whl (2.9 kB)\n",
            "Requirement already satisfied: click in /usr/local/lib/python3.10/dist-packages (from nltk->texthero==1.0.5) (8.1.7)\n",
            "Requirement already satisfied: joblib in /usr/local/lib/python3.10/dist-packages (from nltk->texthero==1.0.5) (1.4.2)\n",
            "Requirement already satisfied: regex>=2021.8.3 in /usr/local/lib/python3.10/dist-packages (from nltk->texthero==1.0.5) (2024.5.15)\n",
            "Requirement already satisfied: tqdm in /usr/local/lib/python3.10/dist-packages (from nltk->texthero==1.0.5) (4.66.4)\n",
            "Requirement already satisfied: pandas>=0.20.0 in /usr/local/lib/python3.10/dist-packages (from plotly-express->texthero==1.0.5) (2.0.3)\n",
            "Requirement already satisfied: plotly>=4.1.0 in /usr/local/lib/python3.10/dist-packages (from plotly-express->texthero==1.0.5) (5.15.0)\n",
            "Requirement already satisfied: statsmodels>=0.9.0 in /usr/local/lib/python3.10/dist-packages (from plotly-express->texthero==1.0.5) (0.14.2)\n",
            "Requirement already satisfied: scipy>=0.18 in /usr/local/lib/python3.10/dist-packages (from plotly-express->texthero==1.0.5) (1.11.4)\n",
            "Requirement already satisfied: patsy>=0.5 in /usr/local/lib/python3.10/dist-packages (from plotly-express->texthero==1.0.5) (0.5.6)\n",
            "Requirement already satisfied: numpy>=1.11 in /usr/local/lib/python3.10/dist-packages (from plotly-express->texthero==1.0.5) (1.25.2)\n",
            "Requirement already satisfied: threadpoolctl>=2.0.0 in /usr/local/lib/python3.10/dist-packages (from scikit-learn->texthero==1.0.5) (3.5.0)\n",
            "Requirement already satisfied: python-dateutil>=2.8.2 in /usr/local/lib/python3.10/dist-packages (from pandas>=0.20.0->plotly-express->texthero==1.0.5) (2.8.2)\n",
            "Requirement already satisfied: pytz>=2020.1 in /usr/local/lib/python3.10/dist-packages (from pandas>=0.20.0->plotly-express->texthero==1.0.5) (2023.4)\n",
            "Requirement already satisfied: tzdata>=2022.1 in /usr/local/lib/python3.10/dist-packages (from pandas>=0.20.0->plotly-express->texthero==1.0.5) (2024.1)\n",
            "Requirement already satisfied: six in /usr/local/lib/python3.10/dist-packages (from patsy>=0.5->plotly-express->texthero==1.0.5) (1.16.0)\n",
            "Requirement already satisfied: tenacity>=6.2.0 in /usr/local/lib/python3.10/dist-packages (from plotly>=4.1.0->plotly-express->texthero==1.0.5) (8.3.0)\n",
            "Requirement already satisfied: packaging in /usr/local/lib/python3.10/dist-packages (from plotly>=4.1.0->plotly-express->texthero==1.0.5) (24.0)\n",
            "Installing collected packages: plotly-express, texthero\n",
            "Successfully installed plotly-express-0.4.1 texthero-1.0.5\n"
          ]
        }
      ],
      "source": [
        "pip install \"texthero==1.0.5\""
      ]
    },
    {
      "cell_type": "code",
      "execution_count": null,
      "metadata": {
        "colab": {
          "base_uri": "https://localhost:8080/"
        },
        "id": "Fs93wdXDGCVb",
        "outputId": "2d74a757-f273-4786-8115-98d8af66b258"
      },
      "outputs": [
        {
          "output_type": "stream",
          "name": "stdout",
          "text": [
            "Collecting unidecode\n",
            "  Downloading Unidecode-1.3.8-py3-none-any.whl (235 kB)\n",
            "\u001b[?25l     \u001b[90m━━━━━━━━━━━━━━━━━━━━━━━━━━━━━━━━━━━━━━━━\u001b[0m \u001b[32m0.0/235.5 kB\u001b[0m \u001b[31m?\u001b[0m eta \u001b[36m-:--:--\u001b[0m\r\u001b[2K     \u001b[91m━━━━━━━━━━━━━━━\u001b[0m\u001b[91m╸\u001b[0m\u001b[90m━━━━━━━━━━━━━━━━━━━━━━━━\u001b[0m \u001b[32m92.2/235.5 kB\u001b[0m \u001b[31m2.6 MB/s\u001b[0m eta \u001b[36m0:00:01\u001b[0m\r\u001b[2K     \u001b[90m━━━━━━━━━━━━━━━━━━━━━━━━━━━━━━━━━━━━━━━━\u001b[0m \u001b[32m235.5/235.5 kB\u001b[0m \u001b[31m4.2 MB/s\u001b[0m eta \u001b[36m0:00:00\u001b[0m\n",
            "\u001b[?25hInstalling collected packages: unidecode\n",
            "Successfully installed unidecode-1.3.8\n"
          ]
        }
      ],
      "source": [
        "pip install unidecode"
      ]
    },
    {
      "cell_type": "markdown",
      "metadata": {
        "id": "ZF-9ygE_hbdT"
      },
      "source": [
        "**READ DATASET**"
      ]
    },
    {
      "cell_type": "code",
      "execution_count": null,
      "metadata": {
        "id": "HWph4rQVJv4O"
      },
      "outputs": [],
      "source": [
        "columns = ['Tweet_ID', 'Sentiment', 'Tweet_Text']\n",
        "\n",
        "years = [2013] # Assuming files are named from 1 to 11\n",
        "\n",
        "# Define the list to store training DataFrames\n",
        "train_dfs = []\n",
        "\n",
        "# Define the list to store dev DataFrames\n",
        "dev_dfs = []\n",
        "# Define the list to store test DataFrames\n",
        "test_dfs = []\n",
        "combined_dfs = []"
      ]
    },
    {
      "cell_type": "code",
      "execution_count": null,
      "metadata": {
        "colab": {
          "base_uri": "https://localhost:8080/",
          "height": 175
        },
        "id": "Nk_2Q_DxJ_JG",
        "outputId": "c8eaeeb9-912e-48ce-e700-787c3efd4f5f"
      },
      "outputs": [
        {
          "output_type": "execute_result",
          "data": {
            "text/plain": [
              "             Tweet_ID Sentiment  \\\n",
              "0  264183816548130816  positive   \n",
              "1  263405084770172928  negative   \n",
              "2  262163168678248449  negative   \n",
              "3  264249301910310912  negative   \n",
              "\n",
              "                                          Tweet_Text  \n",
              "0  Gas by my house hit $3.39!!!! I\\u2019m going t...  \n",
              "1  Theo Walcott is still shit\\u002c watch Rafa an...  \n",
              "2  its not that I\\u2019m a GSP fan\\u002c i just h...  \n",
              "3  Iranian general says Israel\\u2019s Iron Dome c...  "
            ],
            "text/html": [
              "\n",
              "  <div id=\"df-79b68dd7-5ac0-4bec-9bea-aa888e8baee7\" class=\"colab-df-container\">\n",
              "    <div>\n",
              "<style scoped>\n",
              "    .dataframe tbody tr th:only-of-type {\n",
              "        vertical-align: middle;\n",
              "    }\n",
              "\n",
              "    .dataframe tbody tr th {\n",
              "        vertical-align: top;\n",
              "    }\n",
              "\n",
              "    .dataframe thead th {\n",
              "        text-align: right;\n",
              "    }\n",
              "</style>\n",
              "<table border=\"1\" class=\"dataframe\">\n",
              "  <thead>\n",
              "    <tr style=\"text-align: right;\">\n",
              "      <th></th>\n",
              "      <th>Tweet_ID</th>\n",
              "      <th>Sentiment</th>\n",
              "      <th>Tweet_Text</th>\n",
              "    </tr>\n",
              "  </thead>\n",
              "  <tbody>\n",
              "    <tr>\n",
              "      <th>0</th>\n",
              "      <td>264183816548130816</td>\n",
              "      <td>positive</td>\n",
              "      <td>Gas by my house hit $3.39!!!! I\\u2019m going t...</td>\n",
              "    </tr>\n",
              "    <tr>\n",
              "      <th>1</th>\n",
              "      <td>263405084770172928</td>\n",
              "      <td>negative</td>\n",
              "      <td>Theo Walcott is still shit\\u002c watch Rafa an...</td>\n",
              "    </tr>\n",
              "    <tr>\n",
              "      <th>2</th>\n",
              "      <td>262163168678248449</td>\n",
              "      <td>negative</td>\n",
              "      <td>its not that I\\u2019m a GSP fan\\u002c i just h...</td>\n",
              "    </tr>\n",
              "    <tr>\n",
              "      <th>3</th>\n",
              "      <td>264249301910310912</td>\n",
              "      <td>negative</td>\n",
              "      <td>Iranian general says Israel\\u2019s Iron Dome c...</td>\n",
              "    </tr>\n",
              "  </tbody>\n",
              "</table>\n",
              "</div>\n",
              "    <div class=\"colab-df-buttons\">\n",
              "\n",
              "  <div class=\"colab-df-container\">\n",
              "    <button class=\"colab-df-convert\" onclick=\"convertToInteractive('df-79b68dd7-5ac0-4bec-9bea-aa888e8baee7')\"\n",
              "            title=\"Convert this dataframe to an interactive table.\"\n",
              "            style=\"display:none;\">\n",
              "\n",
              "  <svg xmlns=\"http://www.w3.org/2000/svg\" height=\"24px\" viewBox=\"0 -960 960 960\">\n",
              "    <path d=\"M120-120v-720h720v720H120Zm60-500h600v-160H180v160Zm220 220h160v-160H400v160Zm0 220h160v-160H400v160ZM180-400h160v-160H180v160Zm440 0h160v-160H620v160ZM180-180h160v-160H180v160Zm440 0h160v-160H620v160Z\"/>\n",
              "  </svg>\n",
              "    </button>\n",
              "\n",
              "  <style>\n",
              "    .colab-df-container {\n",
              "      display:flex;\n",
              "      gap: 12px;\n",
              "    }\n",
              "\n",
              "    .colab-df-convert {\n",
              "      background-color: #E8F0FE;\n",
              "      border: none;\n",
              "      border-radius: 50%;\n",
              "      cursor: pointer;\n",
              "      display: none;\n",
              "      fill: #1967D2;\n",
              "      height: 32px;\n",
              "      padding: 0 0 0 0;\n",
              "      width: 32px;\n",
              "    }\n",
              "\n",
              "    .colab-df-convert:hover {\n",
              "      background-color: #E2EBFA;\n",
              "      box-shadow: 0px 1px 2px rgba(60, 64, 67, 0.3), 0px 1px 3px 1px rgba(60, 64, 67, 0.15);\n",
              "      fill: #174EA6;\n",
              "    }\n",
              "\n",
              "    .colab-df-buttons div {\n",
              "      margin-bottom: 4px;\n",
              "    }\n",
              "\n",
              "    [theme=dark] .colab-df-convert {\n",
              "      background-color: #3B4455;\n",
              "      fill: #D2E3FC;\n",
              "    }\n",
              "\n",
              "    [theme=dark] .colab-df-convert:hover {\n",
              "      background-color: #434B5C;\n",
              "      box-shadow: 0px 1px 3px 1px rgba(0, 0, 0, 0.15);\n",
              "      filter: drop-shadow(0px 1px 2px rgba(0, 0, 0, 0.3));\n",
              "      fill: #FFFFFF;\n",
              "    }\n",
              "  </style>\n",
              "\n",
              "    <script>\n",
              "      const buttonEl =\n",
              "        document.querySelector('#df-79b68dd7-5ac0-4bec-9bea-aa888e8baee7 button.colab-df-convert');\n",
              "      buttonEl.style.display =\n",
              "        google.colab.kernel.accessAllowed ? 'block' : 'none';\n",
              "\n",
              "      async function convertToInteractive(key) {\n",
              "        const element = document.querySelector('#df-79b68dd7-5ac0-4bec-9bea-aa888e8baee7');\n",
              "        const dataTable =\n",
              "          await google.colab.kernel.invokeFunction('convertToInteractive',\n",
              "                                                    [key], {});\n",
              "        if (!dataTable) return;\n",
              "\n",
              "        const docLinkHtml = 'Like what you see? Visit the ' +\n",
              "          '<a target=\"_blank\" href=https://colab.research.google.com/notebooks/data_table.ipynb>data table notebook</a>'\n",
              "          + ' to learn more about interactive tables.';\n",
              "        element.innerHTML = '';\n",
              "        dataTable['output_type'] = 'display_data';\n",
              "        await google.colab.output.renderOutput(dataTable, element);\n",
              "        const docLink = document.createElement('div');\n",
              "        docLink.innerHTML = docLinkHtml;\n",
              "        element.appendChild(docLink);\n",
              "      }\n",
              "    </script>\n",
              "  </div>\n",
              "\n",
              "\n",
              "<div id=\"df-36c8036d-96cc-4d7e-8ae1-b68175f34389\">\n",
              "  <button class=\"colab-df-quickchart\" onclick=\"quickchart('df-36c8036d-96cc-4d7e-8ae1-b68175f34389')\"\n",
              "            title=\"Suggest charts\"\n",
              "            style=\"display:none;\">\n",
              "\n",
              "<svg xmlns=\"http://www.w3.org/2000/svg\" height=\"24px\"viewBox=\"0 0 24 24\"\n",
              "     width=\"24px\">\n",
              "    <g>\n",
              "        <path d=\"M19 3H5c-1.1 0-2 .9-2 2v14c0 1.1.9 2 2 2h14c1.1 0 2-.9 2-2V5c0-1.1-.9-2-2-2zM9 17H7v-7h2v7zm4 0h-2V7h2v10zm4 0h-2v-4h2v4z\"/>\n",
              "    </g>\n",
              "</svg>\n",
              "  </button>\n",
              "\n",
              "<style>\n",
              "  .colab-df-quickchart {\n",
              "      --bg-color: #E8F0FE;\n",
              "      --fill-color: #1967D2;\n",
              "      --hover-bg-color: #E2EBFA;\n",
              "      --hover-fill-color: #174EA6;\n",
              "      --disabled-fill-color: #AAA;\n",
              "      --disabled-bg-color: #DDD;\n",
              "  }\n",
              "\n",
              "  [theme=dark] .colab-df-quickchart {\n",
              "      --bg-color: #3B4455;\n",
              "      --fill-color: #D2E3FC;\n",
              "      --hover-bg-color: #434B5C;\n",
              "      --hover-fill-color: #FFFFFF;\n",
              "      --disabled-bg-color: #3B4455;\n",
              "      --disabled-fill-color: #666;\n",
              "  }\n",
              "\n",
              "  .colab-df-quickchart {\n",
              "    background-color: var(--bg-color);\n",
              "    border: none;\n",
              "    border-radius: 50%;\n",
              "    cursor: pointer;\n",
              "    display: none;\n",
              "    fill: var(--fill-color);\n",
              "    height: 32px;\n",
              "    padding: 0;\n",
              "    width: 32px;\n",
              "  }\n",
              "\n",
              "  .colab-df-quickchart:hover {\n",
              "    background-color: var(--hover-bg-color);\n",
              "    box-shadow: 0 1px 2px rgba(60, 64, 67, 0.3), 0 1px 3px 1px rgba(60, 64, 67, 0.15);\n",
              "    fill: var(--button-hover-fill-color);\n",
              "  }\n",
              "\n",
              "  .colab-df-quickchart-complete:disabled,\n",
              "  .colab-df-quickchart-complete:disabled:hover {\n",
              "    background-color: var(--disabled-bg-color);\n",
              "    fill: var(--disabled-fill-color);\n",
              "    box-shadow: none;\n",
              "  }\n",
              "\n",
              "  .colab-df-spinner {\n",
              "    border: 2px solid var(--fill-color);\n",
              "    border-color: transparent;\n",
              "    border-bottom-color: var(--fill-color);\n",
              "    animation:\n",
              "      spin 1s steps(1) infinite;\n",
              "  }\n",
              "\n",
              "  @keyframes spin {\n",
              "    0% {\n",
              "      border-color: transparent;\n",
              "      border-bottom-color: var(--fill-color);\n",
              "      border-left-color: var(--fill-color);\n",
              "    }\n",
              "    20% {\n",
              "      border-color: transparent;\n",
              "      border-left-color: var(--fill-color);\n",
              "      border-top-color: var(--fill-color);\n",
              "    }\n",
              "    30% {\n",
              "      border-color: transparent;\n",
              "      border-left-color: var(--fill-color);\n",
              "      border-top-color: var(--fill-color);\n",
              "      border-right-color: var(--fill-color);\n",
              "    }\n",
              "    40% {\n",
              "      border-color: transparent;\n",
              "      border-right-color: var(--fill-color);\n",
              "      border-top-color: var(--fill-color);\n",
              "    }\n",
              "    60% {\n",
              "      border-color: transparent;\n",
              "      border-right-color: var(--fill-color);\n",
              "    }\n",
              "    80% {\n",
              "      border-color: transparent;\n",
              "      border-right-color: var(--fill-color);\n",
              "      border-bottom-color: var(--fill-color);\n",
              "    }\n",
              "    90% {\n",
              "      border-color: transparent;\n",
              "      border-bottom-color: var(--fill-color);\n",
              "    }\n",
              "  }\n",
              "</style>\n",
              "\n",
              "  <script>\n",
              "    async function quickchart(key) {\n",
              "      const quickchartButtonEl =\n",
              "        document.querySelector('#' + key + ' button');\n",
              "      quickchartButtonEl.disabled = true;  // To prevent multiple clicks.\n",
              "      quickchartButtonEl.classList.add('colab-df-spinner');\n",
              "      try {\n",
              "        const charts = await google.colab.kernel.invokeFunction(\n",
              "            'suggestCharts', [key], {});\n",
              "      } catch (error) {\n",
              "        console.error('Error during call to suggestCharts:', error);\n",
              "      }\n",
              "      quickchartButtonEl.classList.remove('colab-df-spinner');\n",
              "      quickchartButtonEl.classList.add('colab-df-quickchart-complete');\n",
              "    }\n",
              "    (() => {\n",
              "      let quickchartButtonEl =\n",
              "        document.querySelector('#df-36c8036d-96cc-4d7e-8ae1-b68175f34389 button');\n",
              "      quickchartButtonEl.style.display =\n",
              "        google.colab.kernel.accessAllowed ? 'block' : 'none';\n",
              "    })();\n",
              "  </script>\n",
              "</div>\n",
              "\n",
              "    </div>\n",
              "  </div>\n"
            ],
            "application/vnd.google.colaboratory.intrinsic+json": {
              "type": "dataframe",
              "variable_name": "df",
              "summary": "{\n  \"name\": \"df\",\n  \"rows\": 14885,\n  \"fields\": [\n    {\n      \"column\": \"Tweet_ID\",\n      \"properties\": {\n        \"dtype\": \"number\",\n        \"std\": 54224463843682184,\n        \"min\": 90832477970636801,\n        \"max\": 264267144466952193,\n        \"num_unique_values\": 14819,\n        \"samples\": [\n          100273589516910592,\n          260805278885367809,\n          258931021142179841\n        ],\n        \"semantic_type\": \"\",\n        \"description\": \"\"\n      }\n    },\n    {\n      \"column\": \"Sentiment\",\n      \"properties\": {\n        \"dtype\": \"category\",\n        \"num_unique_values\": 3,\n        \"samples\": [\n          \"positive\",\n          \"negative\",\n          \"neutral\"\n        ],\n        \"semantic_type\": \"\",\n        \"description\": \"\"\n      }\n    },\n    {\n      \"column\": \"Tweet_Text\",\n      \"properties\": {\n        \"dtype\": \"string\",\n        \"num_unique_values\": 14829,\n        \"samples\": [\n          \"Tiffany will be one of the MCs along with CNBlue\\\\u2019s Yonghwa and Beast\\\\u2019s Gikwang for SBS KPOP Super Concert on November 10  cr: ForeverJeTi\",\n          \"Want to gan see Ferry Corsten at digi on Friday... Can\\\\u2019t be bad if your ranked 15th in the world\\\\u002c above Angello\\\\u002c Hardwell & Calvin Harris.\",\n          \"I'm so glad the Vampire Diaries won an award last night. Loves them all :)  http://t.co/wD4d3wI\"\n        ],\n        \"semantic_type\": \"\",\n        \"description\": \"\"\n      }\n    }\n  ]\n}"
            }
          },
          "metadata": {},
          "execution_count": 5
        }
      ],
      "source": [
        "for year in years:\n",
        "    train_file_path = f'./twitter-{year}train-A.txt'\n",
        "    dev_file_path = f'./twitter-{year}dev-A.txt'\n",
        "    test_file_path = f'./twitter-{year}test-A.txt'\n",
        "\n",
        "    # Read the training data file into a DataFrame\n",
        "    train_df = pd.read_csv(train_file_path, sep='\\t', names=columns)\n",
        "    # Read the dev data file into a DataFrame\n",
        "    dev_df = pd.read_csv(dev_file_path, sep='\\t', names=columns)\n",
        "    # Read the test data file into a DataFrame\n",
        "\n",
        "    test_df = pd.read_csv(test_file_path, sep='\\t',  names=columns)\n",
        "\n",
        "    # Append the DataFrames to the list\n",
        "    combined_dfs.append(train_df)\n",
        "    combined_dfs.append(dev_df)\n",
        "    combined_dfs.append(test_df)\n",
        "\n",
        "# Concatenate all DataFrames into a single DataFrame\n",
        "df= pd.concat(combined_dfs, ignore_index=True)\n",
        "\n",
        "\n",
        "df.head(4)"
      ]
    },
    {
      "cell_type": "code",
      "execution_count": null,
      "metadata": {
        "colab": {
          "base_uri": "https://localhost:8080/"
        },
        "id": "C-aCwYobsDsi",
        "outputId": "ac4093e6-9db2-407c-95e4-61f19452e887"
      },
      "outputs": [
        {
          "output_type": "execute_result",
          "data": {
            "text/plain": [
              "Tweet_ID      14885\n",
              "Sentiment     14885\n",
              "Tweet_Text    14885\n",
              "dtype: int64"
            ]
          },
          "metadata": {},
          "execution_count": 6
        }
      ],
      "source": [
        "df.count()"
      ]
    },
    {
      "cell_type": "code",
      "execution_count": null,
      "metadata": {
        "colab": {
          "base_uri": "https://localhost:8080/"
        },
        "id": "18ECUEymhj0n",
        "outputId": "e89d78d6-85ab-45f7-d689-cfed9bc30e91"
      },
      "outputs": [
        {
          "output_type": "stream",
          "name": "stdout",
          "text": [
            "<class 'pandas.core.frame.DataFrame'>\n",
            "RangeIndex: 14885 entries, 0 to 14884\n",
            "Data columns (total 3 columns):\n",
            " #   Column      Non-Null Count  Dtype \n",
            "---  ------      --------------  ----- \n",
            " 0   Tweet_ID    14885 non-null  int64 \n",
            " 1   Sentiment   14885 non-null  object\n",
            " 2   Tweet_Text  14885 non-null  object\n",
            "dtypes: int64(1), object(2)\n",
            "memory usage: 349.0+ KB\n"
          ]
        }
      ],
      "source": [
        "df.info()"
      ]
    },
    {
      "cell_type": "code",
      "execution_count": null,
      "metadata": {
        "colab": {
          "base_uri": "https://localhost:8080/",
          "height": 453
        },
        "id": "m6DJdxxvh00J",
        "outputId": "8e69a1fe-45c6-40c0-eeb5-ed6b49db7dd8"
      },
      "outputs": [
        {
          "output_type": "display_data",
          "data": {
            "text/plain": [
              "<Figure size 640x480 with 1 Axes>"
            ],
            "image/png": "[encoded data removed]"
          },
          "metadata": {}
        }
      ],
      "source": [
        "sns.countplot(df.Sentiment,)\n",
        "plt.xlabel('number of tweets')\n",
        "plt.ylabel('class Sentiment')\n",
        "plt.show()"
      ]
    },
    {
      "cell_type": "code",
      "execution_count": null,
      "metadata": {
        "colab": {
          "base_uri": "https://localhost:8080/"
        },
        "id": "IAhu7CVELAyl",
        "outputId": "47dd0675-8ac6-43f3-f98f-0c9cfcbe6329"
      },
      "outputs": [
        {
          "output_type": "stream",
          "name": "stdout",
          "text": [
            "2357\n",
            "5690\n",
            "6838\n",
            "(14885, 3)\n"
          ]
        }
      ],
      "source": [
        "#we need to check the data if it is evenly distributed to avoid bias in learning model\n",
        "neg = df['Sentiment'][df.Sentiment=='negative']\n",
        "neu = df['Sentiment'][df.Sentiment=='neutral']\n",
        "pos = df['Sentiment'][df.Sentiment=='positive']\n",
        "\n",
        "print(len(neg))\n",
        "print(len(pos))\n",
        "print(len(neu))\n",
        "print(df.shape)"
      ]
    },
    {
      "cell_type": "markdown",
      "metadata": {
        "id": "XX9n-9pMiSeX"
      },
      "source": [
        "**Preprocessing Tweet Text**"
      ]
    },
    {
      "cell_type": "code",
      "execution_count": null,
      "metadata": {
        "id": "8X-PgQGTKkrD"
      },
      "outputs": [],
      "source": [
        "import texthero as hero"
      ]
    },
    {
      "cell_type": "code",
      "execution_count": null,
      "metadata": {
        "colab": {
          "base_uri": "https://localhost:8080/",
          "height": 206
        },
        "id": "_Reeluw8K8Tb",
        "outputId": "41cee37e-eaf9-4bfa-899d-1d512e1d73a8"
      },
      "outputs": [
        {
          "output_type": "execute_result",
          "data": {
            "text/plain": [
              "             Tweet_ID Sentiment  \\\n",
              "0  264183816548130816  positive   \n",
              "1  263405084770172928  negative   \n",
              "2  262163168678248449  negative   \n",
              "3  264249301910310912  negative   \n",
              "4  262682041215234048   neutral   \n",
              "\n",
              "                                          Tweet_Text  wordcount  \n",
              "0  Gas by my house hit $3.39!!!! I\\u2019m going t...         14  \n",
              "1  Theo Walcott is still shit\\u002c watch Rafa an...         14  \n",
              "2  its not that I\\u2019m a GSP fan\\u002c i just h...         16  \n",
              "3  Iranian general says Israel\\u2019s Iron Dome c...         22  \n",
              "4  Tehran\\u002c Mon Amour: Obama Tried to Establi...         21  "
            ],
            "text/html": [
              "\n",
              "  <div id=\"df-cd884924-0d94-4558-9f03-6efb637f7d19\" class=\"colab-df-container\">\n",
              "    <div>\n",
              "<style scoped>\n",
              "    .dataframe tbody tr th:only-of-type {\n",
              "        vertical-align: middle;\n",
              "    }\n",
              "\n",
              "    .dataframe tbody tr th {\n",
              "        vertical-align: top;\n",
              "    }\n",
              "\n",
              "    .dataframe thead th {\n",
              "        text-align: right;\n",
              "    }\n",
              "</style>\n",
              "<table border=\"1\" class=\"dataframe\">\n",
              "  <thead>\n",
              "    <tr style=\"text-align: right;\">\n",
              "      <th></th>\n",
              "      <th>Tweet_ID</th>\n",
              "      <th>Sentiment</th>\n",
              "      <th>Tweet_Text</th>\n",
              "      <th>wordcount</th>\n",
              "    </tr>\n",
              "  </thead>\n",
              "  <tbody>\n",
              "    <tr>\n",
              "      <th>0</th>\n",
              "      <td>264183816548130816</td>\n",
              "      <td>positive</td>\n",
              "      <td>Gas by my house hit $3.39!!!! I\\u2019m going t...</td>\n",
              "      <td>14</td>\n",
              "    </tr>\n",
              "    <tr>\n",
              "      <th>1</th>\n",
              "      <td>263405084770172928</td>\n",
              "      <td>negative</td>\n",
              "      <td>Theo Walcott is still shit\\u002c watch Rafa an...</td>\n",
              "      <td>14</td>\n",
              "    </tr>\n",
              "    <tr>\n",
              "      <th>2</th>\n",
              "      <td>262163168678248449</td>\n",
              "      <td>negative</td>\n",
              "      <td>its not that I\\u2019m a GSP fan\\u002c i just h...</td>\n",
              "      <td>16</td>\n",
              "    </tr>\n",
              "    <tr>\n",
              "      <th>3</th>\n",
              "      <td>264249301910310912</td>\n",
              "      <td>negative</td>\n",
              "      <td>Iranian general says Israel\\u2019s Iron Dome c...</td>\n",
              "      <td>22</td>\n",
              "    </tr>\n",
              "    <tr>\n",
              "      <th>4</th>\n",
              "      <td>262682041215234048</td>\n",
              "      <td>neutral</td>\n",
              "      <td>Tehran\\u002c Mon Amour: Obama Tried to Establi...</td>\n",
              "      <td>21</td>\n",
              "    </tr>\n",
              "  </tbody>\n",
              "</table>\n",
              "</div>\n",
              "    <div class=\"colab-df-buttons\">\n",
              "\n",
              "  <div class=\"colab-df-container\">\n",
              "    <button class=\"colab-df-convert\" onclick=\"convertToInteractive('df-cd884924-0d94-4558-9f03-6efb637f7d19')\"\n",
              "            title=\"Convert this dataframe to an interactive table.\"\n",
              "            style=\"display:none;\">\n",
              "\n",
              "  <svg xmlns=\"http://www.w3.org/2000/svg\" height=\"24px\" viewBox=\"0 -960 960 960\">\n",
              "    <path d=\"M120-120v-720h720v720H120Zm60-500h600v-160H180v160Zm220 220h160v-160H400v160Zm0 220h160v-160H400v160ZM180-400h160v-160H180v160Zm440 0h160v-160H620v160ZM180-180h160v-160H180v160Zm440 0h160v-160H620v160Z\"/>\n",
              "  </svg>\n",
              "    </button>\n",
              "\n",
              "  <style>\n",
              "    .colab-df-container {\n",
              "      display:flex;\n",
              "      gap: 12px;\n",
              "    }\n",
              "\n",
              "    .colab-df-convert {\n",
              "      background-color: #E8F0FE;\n",
              "      border: none;\n",
              "      border-radius: 50%;\n",
              "      cursor: pointer;\n",
              "      display: none;\n",
              "      fill: #1967D2;\n",
              "      height: 32px;\n",
              "      padding: 0 0 0 0;\n",
              "      width: 32px;\n",
              "    }\n",
              "\n",
              "    .colab-df-convert:hover {\n",
              "      background-color: #E2EBFA;\n",
              "      box-shadow: 0px 1px 2px rgba(60, 64, 67, 0.3), 0px 1px 3px 1px rgba(60, 64, 67, 0.15);\n",
              "      fill: #174EA6;\n",
              "    }\n",
              "\n",
              "    .colab-df-buttons div {\n",
              "      margin-bottom: 4px;\n",
              "    }\n",
              "\n",
              "    [theme=dark] .colab-df-convert {\n",
              "      background-color: #3B4455;\n",
              "      fill: #D2E3FC;\n",
              "    }\n",
              "\n",
              "    [theme=dark] .colab-df-convert:hover {\n",
              "      background-color: #434B5C;\n",
              "      box-shadow: 0px 1px 3px 1px rgba(0, 0, 0, 0.15);\n",
              "      filter: drop-shadow(0px 1px 2px rgba(0, 0, 0, 0.3));\n",
              "      fill: #FFFFFF;\n",
              "    }\n",
              "  </style>\n",
              "\n",
              "    <script>\n",
              "      const buttonEl =\n",
              "        document.querySelector('#df-cd884924-0d94-4558-9f03-6efb637f7d19 button.colab-df-convert');\n",
              "      buttonEl.style.display =\n",
              "        google.colab.kernel.accessAllowed ? 'block' : 'none';\n",
              "\n",
              "      async function convertToInteractive(key) {\n",
              "        const element = document.querySelector('#df-cd884924-0d94-4558-9f03-6efb637f7d19');\n",
              "        const dataTable =\n",
              "          await google.colab.kernel.invokeFunction('convertToInteractive',\n",
              "                                                    [key], {});\n",
              "        if (!dataTable) return;\n",
              "\n",
              "        const docLinkHtml = 'Like what you see? Visit the ' +\n",
              "          '<a target=\"_blank\" href=https://colab.research.google.com/notebooks/data_table.ipynb>data table notebook</a>'\n",
              "          + ' to learn more about interactive tables.';\n",
              "        element.innerHTML = '';\n",
              "        dataTable['output_type'] = 'display_data';\n",
              "        await google.colab.output.renderOutput(dataTable, element);\n",
              "        const docLink = document.createElement('div');\n",
              "        docLink.innerHTML = docLinkHtml;\n",
              "        element.appendChild(docLink);\n",
              "      }\n",
              "    </script>\n",
              "  </div>\n",
              "\n",
              "\n",
              "<div id=\"df-84c65116-7d6e-44ad-9845-6ddb15313829\">\n",
              "  <button class=\"colab-df-quickchart\" onclick=\"quickchart('df-84c65116-7d6e-44ad-9845-6ddb15313829')\"\n",
              "            title=\"Suggest charts\"\n",
              "            style=\"display:none;\">\n",
              "\n",
              "<svg xmlns=\"http://www.w3.org/2000/svg\" height=\"24px\"viewBox=\"0 0 24 24\"\n",
              "     width=\"24px\">\n",
              "    <g>\n",
              "        <path d=\"M19 3H5c-1.1 0-2 .9-2 2v14c0 1.1.9 2 2 2h14c1.1 0 2-.9 2-2V5c0-1.1-.9-2-2-2zM9 17H7v-7h2v7zm4 0h-2V7h2v10zm4 0h-2v-4h2v4z\"/>\n",
              "    </g>\n",
              "</svg>\n",
              "  </button>\n",
              "\n",
              "<style>\n",
              "  .colab-df-quickchart {\n",
              "      --bg-color: #E8F0FE;\n",
              "      --fill-color: #1967D2;\n",
              "      --hover-bg-color: #E2EBFA;\n",
              "      --hover-fill-color: #174EA6;\n",
              "      --disabled-fill-color: #AAA;\n",
              "      --disabled-bg-color: #DDD;\n",
              "  }\n",
              "\n",
              "  [theme=dark] .colab-df-quickchart {\n",
              "      --bg-color: #3B4455;\n",
              "      --fill-color: #D2E3FC;\n",
              "      --hover-bg-color: #434B5C;\n",
              "      --hover-fill-color: #FFFFFF;\n",
              "      --disabled-bg-color: #3B4455;\n",
              "      --disabled-fill-color: #666;\n",
              "  }\n",
              "\n",
              "  .colab-df-quickchart {\n",
              "    background-color: var(--bg-color);\n",
              "    border: none;\n",
              "    border-radius: 50%;\n",
              "    cursor: pointer;\n",
              "    display: none;\n",
              "    fill: var(--fill-color);\n",
              "    height: 32px;\n",
              "    padding: 0;\n",
              "    width: 32px;\n",
              "  }\n",
              "\n",
              "  .colab-df-quickchart:hover {\n",
              "    background-color: var(--hover-bg-color);\n",
              "    box-shadow: 0 1px 2px rgba(60, 64, 67, 0.3), 0 1px 3px 1px rgba(60, 64, 67, 0.15);\n",
              "    fill: var(--button-hover-fill-color);\n",
              "  }\n",
              "\n",
              "  .colab-df-quickchart-complete:disabled,\n",
              "  .colab-df-quickchart-complete:disabled:hover {\n",
              "    background-color: var(--disabled-bg-color);\n",
              "    fill: var(--disabled-fill-color);\n",
              "    box-shadow: none;\n",
              "  }\n",
              "\n",
              "  .colab-df-spinner {\n",
              "    border: 2px solid var(--fill-color);\n",
              "    border-color: transparent;\n",
              "    border-bottom-color: var(--fill-color);\n",
              "    animation:\n",
              "      spin 1s steps(1) infinite;\n",
              "  }\n",
              "\n",
              "  @keyframes spin {\n",
              "    0% {\n",
              "      border-color: transparent;\n",
              "      border-bottom-color: var(--fill-color);\n",
              "      border-left-color: var(--fill-color);\n",
              "    }\n",
              "    20% {\n",
              "      border-color: transparent;\n",
              "      border-left-color: var(--fill-color);\n",
              "      border-top-color: var(--fill-color);\n",
              "    }\n",
              "    30% {\n",
              "      border-color: transparent;\n",
              "      border-left-color: var(--fill-color);\n",
              "      border-top-color: var(--fill-color);\n",
              "      border-right-color: var(--fill-color);\n",
              "    }\n",
              "    40% {\n",
              "      border-color: transparent;\n",
              "      border-right-color: var(--fill-color);\n",
              "      border-top-color: var(--fill-color);\n",
              "    }\n",
              "    60% {\n",
              "      border-color: transparent;\n",
              "      border-right-color: var(--fill-color);\n",
              "    }\n",
              "    80% {\n",
              "      border-color: transparent;\n",
              "      border-right-color: var(--fill-color);\n",
              "      border-bottom-color: var(--fill-color);\n",
              "    }\n",
              "    90% {\n",
              "      border-color: transparent;\n",
              "      border-bottom-color: var(--fill-color);\n",
              "    }\n",
              "  }\n",
              "</style>\n",
              "\n",
              "  <script>\n",
              "    async function quickchart(key) {\n",
              "      const quickchartButtonEl =\n",
              "        document.querySelector('#' + key + ' button');\n",
              "      quickchartButtonEl.disabled = true;  // To prevent multiple clicks.\n",
              "      quickchartButtonEl.classList.add('colab-df-spinner');\n",
              "      try {\n",
              "        const charts = await google.colab.kernel.invokeFunction(\n",
              "            'suggestCharts', [key], {});\n",
              "      } catch (error) {\n",
              "        console.error('Error during call to suggestCharts:', error);\n",
              "      }\n",
              "      quickchartButtonEl.classList.remove('colab-df-spinner');\n",
              "      quickchartButtonEl.classList.add('colab-df-quickchart-complete');\n",
              "    }\n",
              "    (() => {\n",
              "      let quickchartButtonEl =\n",
              "        document.querySelector('#df-84c65116-7d6e-44ad-9845-6ddb15313829 button');\n",
              "      quickchartButtonEl.style.display =\n",
              "        google.colab.kernel.accessAllowed ? 'block' : 'none';\n",
              "    })();\n",
              "  </script>\n",
              "</div>\n",
              "\n",
              "    </div>\n",
              "  </div>\n"
            ],
            "application/vnd.google.colaboratory.intrinsic+json": {
              "type": "dataframe",
              "variable_name": "df",
              "summary": "{\n  \"name\": \"df\",\n  \"rows\": 14885,\n  \"fields\": [\n    {\n      \"column\": \"Tweet_ID\",\n      \"properties\": {\n        \"dtype\": \"number\",\n        \"std\": 54224463843682184,\n        \"min\": 90832477970636801,\n        \"max\": 264267144466952193,\n        \"num_unique_values\": 14819,\n        \"samples\": [\n          100273589516910592,\n          260805278885367809,\n          258931021142179841\n        ],\n        \"semantic_type\": \"\",\n        \"description\": \"\"\n      }\n    },\n    {\n      \"column\": \"Sentiment\",\n      \"properties\": {\n        \"dtype\": \"category\",\n        \"num_unique_values\": 3,\n        \"samples\": [\n          \"positive\",\n          \"negative\",\n          \"neutral\"\n        ],\n        \"semantic_type\": \"\",\n        \"description\": \"\"\n      }\n    },\n    {\n      \"column\": \"Tweet_Text\",\n      \"properties\": {\n        \"dtype\": \"string\",\n        \"num_unique_values\": 14829,\n        \"samples\": [\n          \"Tiffany will be one of the MCs along with CNBlue\\\\u2019s Yonghwa and Beast\\\\u2019s Gikwang for SBS KPOP Super Concert on November 10  cr: ForeverJeTi\",\n          \"Want to gan see Ferry Corsten at digi on Friday... Can\\\\u2019t be bad if your ranked 15th in the world\\\\u002c above Angello\\\\u002c Hardwell & Calvin Harris.\",\n          \"I'm so glad the Vampire Diaries won an award last night. Loves them all :)  http://t.co/wD4d3wI\"\n        ],\n        \"semantic_type\": \"\",\n        \"description\": \"\"\n      }\n    },\n    {\n      \"column\": \"wordcount\",\n      \"properties\": {\n        \"dtype\": \"number\",\n        \"std\": 4,\n        \"min\": 4,\n        \"max\": 35,\n        \"num_unique_values\": 30,\n        \"samples\": [\n          5,\n          26,\n          7\n        ],\n        \"semantic_type\": \"\",\n        \"description\": \"\"\n      }\n    }\n  ]\n}"
            }
          },
          "metadata": {},
          "execution_count": 11
        }
      ],
      "source": [
        "#Word count per sentence\n",
        "def word_count(text):\n",
        "    return len(text.split())\n",
        "\n",
        "\n",
        "df['wordcount'] = df['Tweet_Text'].apply(word_count)\n",
        "#test['wordcount'] = test['Tweet_Text'].apply(word_count)\n",
        "\n",
        "df.head(5)"
      ]
    },
    {
      "cell_type": "code",
      "execution_count": null,
      "metadata": {
        "colab": {
          "base_uri": "https://localhost:8080/",
          "height": 530
        },
        "id": "7RSymeZeLGxI",
        "outputId": "0e01d486-8b2d-4541-c7d1-4553fed15f78"
      },
      "outputs": [
        {
          "output_type": "display_data",
          "data": {
            "text/plain": [
              "<Figure size 640x480 with 1 Axes>"
            ],
            "image/png": "[encoded data removed]"
          },
          "metadata": {}
        }
      ],
      "source": [
        "#Now lets find the most common word being used in the tweet text\n",
        "NUM_TOP_WORDS = 20\n",
        "\n",
        "top_20 = hero.visualization.top_words(df['Tweet_Text']).head(NUM_TOP_WORDS)\n",
        "\n",
        "# Draw the bar chart\n",
        "\n",
        "top_20.plot.bar(rot=90, title=\"Top 20 words\");\n",
        "\n",
        "plt.show(block=True);"
      ]
    },
    {
      "cell_type": "code",
      "execution_count": null,
      "metadata": {
        "id": "jXdp4izAIKow"
      },
      "outputs": [],
      "source": [
        "text=df['Tweet_Text'].values.tolist()\n",
        "#text_test=test['Tweet_Text'].values.tolist()\n",
        "#text+=text_test"
      ]
    },
    {
      "cell_type": "markdown",
      "metadata": {
        "id": "CTfU-EcW1jwL"
      },
      "source": [
        "**Text cleaned**"
      ]
    },
    {
      "cell_type": "code",
      "execution_count": null,
      "metadata": {
        "id": "ZkdHvjU7zNNc"
      },
      "outputs": [],
      "source": [
        "import nltk\n",
        "stopword=nltk.corpus.stopwords.words('english')\n",
        "stopword.remove('not')\n",
        "pt=PorterStemmer()\n",
        "wordnet=WordNetLemmatizer()\n",
        "for index,text_ in enumerate(text):\n",
        "    text_=re.sub(r'@[\\w]*','',text_) #Removing Twitter Handles (@user)\n",
        "    text_=re.sub(r'http/S+','',text_) #Removing urls from text\n",
        "    text_=re.sub(r'[^A-Za-z#]',' ',text_) #Removing Punctuations, Numbers, and Special Characters\n",
        "    text_=\" \".join(i.lower() for i in text_.split() if i.lower() not in stopword) #Removing stopword\n",
        "    text_=\" \".join(pt.stem(i) for i in text_.split()) #Stemming the word\n",
        "    text_=\" \".join(wordnet.lemmatize(i) for i in text_.split())\n",
        "    text[index]=text_"
      ]
    },
    {
      "cell_type": "code",
      "execution_count": null,
      "metadata": {
        "colab": {
          "base_uri": "https://localhost:8080/",
          "height": 537
        },
        "id": "n8FW_zs5ze2U",
        "outputId": "7d7eb0e5-01fb-41cd-9f82-85efd57fffaa"
      },
      "outputs": [
        {
          "output_type": "execute_result",
          "data": {
            "text/plain": [
              "             Tweet_ID Sentiment  \\\n",
              "0  264183816548130816  positive   \n",
              "1  263405084770172928  negative   \n",
              "2  262163168678248449  negative   \n",
              "3  264249301910310912  negative   \n",
              "4  262682041215234048   neutral   \n",
              "5  264229576773861376   neutral   \n",
              "6  264105751826538497  positive   \n",
              "7  264094586689953794  negative   \n",
              "8  212392538055778304   neutral   \n",
              "9  254941790757601280  negative   \n",
              "\n",
              "                                          Tweet_Text  wordcount  \\\n",
              "0  Gas by my house hit $3.39!!!! I\\u2019m going t...         14   \n",
              "1  Theo Walcott is still shit\\u002c watch Rafa an...         14   \n",
              "2  its not that I\\u2019m a GSP fan\\u002c i just h...         16   \n",
              "3  Iranian general says Israel\\u2019s Iron Dome c...         22   \n",
              "4  Tehran\\u002c Mon Amour: Obama Tried to Establi...         21   \n",
              "5  I sat through this whole movie just for Harry ...         14   \n",
              "6  with J Davlar 11th. Main rivals are team Polan...         24   \n",
              "7  Talking about ACT\\u2019s && SAT\\u2019s\\u002c d...         23   \n",
              "8  Why is \\\"\"Happy Valentines Day\\\"\" trending? It...         17   \n",
              "9  They may have a SuperBowl in Dallas\\u002c but ...         21   \n",
              "\n",
              "                                         Clean_Tweet  length_tweet  \n",
              "0                   ga hous hit u go chapel hill sat            32  \n",
              "1  theo walcott still shit u c watch rafa johnni ...            59  \n",
              "2   not u gsp fan u c hate nick diaz u wait februari            48  \n",
              "3  iranian gener say israel u iron dome u deal mi...            78  \n",
              "4  tehran u c mon amour obama tri establish tie m...           102  \n",
              "5           sat whole movi harri ron christma ohlawd            40  \n",
              "6  j davlar th main rival team poland hope make s...            82  \n",
              "7  talk act u sat u u c decid want go colleg u c ...            80  \n",
              "8  happi valentin day trend u th februari not th ...            54  \n",
              "9  may superbowl dalla u c dalla u win superbowl ...            67  "
            ],
            "text/html": [
              "\n",
              "  <div id=\"df-5ffe2748-d62a-44b6-ac3a-9fe1d3f39dcd\" class=\"colab-df-container\">\n",
              "    <div>\n",
              "<style scoped>\n",
              "    .dataframe tbody tr th:only-of-type {\n",
              "        vertical-align: middle;\n",
              "    }\n",
              "\n",
              "    .dataframe tbody tr th {\n",
              "        vertical-align: top;\n",
              "    }\n",
              "\n",
              "    .dataframe thead th {\n",
              "        text-align: right;\n",
              "    }\n",
              "</style>\n",
              "<table border=\"1\" class=\"dataframe\">\n",
              "  <thead>\n",
              "    <tr style=\"text-align: right;\">\n",
              "      <th></th>\n",
              "      <th>Tweet_ID</th>\n",
              "      <th>Sentiment</th>\n",
              "      <th>Tweet_Text</th>\n",
              "      <th>wordcount</th>\n",
              "      <th>Clean_Tweet</th>\n",
              "      <th>length_tweet</th>\n",
              "    </tr>\n",
              "  </thead>\n",
              "  <tbody>\n",
              "    <tr>\n",
              "      <th>0</th>\n",
              "      <td>264183816548130816</td>\n",
              "      <td>positive</td>\n",
              "      <td>Gas by my house hit $3.39!!!! I\\u2019m going t...</td>\n",
              "      <td>14</td>\n",
              "      <td>ga hous hit u go chapel hill sat</td>\n",
              "      <td>32</td>\n",
              "    </tr>\n",
              "    <tr>\n",
              "      <th>1</th>\n",
              "      <td>263405084770172928</td>\n",
              "      <td>negative</td>\n",
              "      <td>Theo Walcott is still shit\\u002c watch Rafa an...</td>\n",
              "      <td>14</td>\n",
              "      <td>theo walcott still shit u c watch rafa johnni ...</td>\n",
              "      <td>59</td>\n",
              "    </tr>\n",
              "    <tr>\n",
              "      <th>2</th>\n",
              "      <td>262163168678248449</td>\n",
              "      <td>negative</td>\n",
              "      <td>its not that I\\u2019m a GSP fan\\u002c i just h...</td>\n",
              "      <td>16</td>\n",
              "      <td>not u gsp fan u c hate nick diaz u wait februari</td>\n",
              "      <td>48</td>\n",
              "    </tr>\n",
              "    <tr>\n",
              "      <th>3</th>\n",
              "      <td>264249301910310912</td>\n",
              "      <td>negative</td>\n",
              "      <td>Iranian general says Israel\\u2019s Iron Dome c...</td>\n",
              "      <td>22</td>\n",
              "      <td>iranian gener say israel u iron dome u deal mi...</td>\n",
              "      <td>78</td>\n",
              "    </tr>\n",
              "    <tr>\n",
              "      <th>4</th>\n",
              "      <td>262682041215234048</td>\n",
              "      <td>neutral</td>\n",
              "      <td>Tehran\\u002c Mon Amour: Obama Tried to Establi...</td>\n",
              "      <td>21</td>\n",
              "      <td>tehran u c mon amour obama tri establish tie m...</td>\n",
              "      <td>102</td>\n",
              "    </tr>\n",
              "    <tr>\n",
              "      <th>5</th>\n",
              "      <td>264229576773861376</td>\n",
              "      <td>neutral</td>\n",
              "      <td>I sat through this whole movie just for Harry ...</td>\n",
              "      <td>14</td>\n",
              "      <td>sat whole movi harri ron christma ohlawd</td>\n",
              "      <td>40</td>\n",
              "    </tr>\n",
              "    <tr>\n",
              "      <th>6</th>\n",
              "      <td>264105751826538497</td>\n",
              "      <td>positive</td>\n",
              "      <td>with J Davlar 11th. Main rivals are team Polan...</td>\n",
              "      <td>24</td>\n",
              "      <td>j davlar th main rival team poland hope make s...</td>\n",
              "      <td>82</td>\n",
              "    </tr>\n",
              "    <tr>\n",
              "      <th>7</th>\n",
              "      <td>264094586689953794</td>\n",
              "      <td>negative</td>\n",
              "      <td>Talking about ACT\\u2019s &amp;&amp; SAT\\u2019s\\u002c d...</td>\n",
              "      <td>23</td>\n",
              "      <td>talk act u sat u u c decid want go colleg u c ...</td>\n",
              "      <td>80</td>\n",
              "    </tr>\n",
              "    <tr>\n",
              "      <th>8</th>\n",
              "      <td>212392538055778304</td>\n",
              "      <td>neutral</td>\n",
              "      <td>Why is \\\"\"Happy Valentines Day\\\"\" trending? It...</td>\n",
              "      <td>17</td>\n",
              "      <td>happi valentin day trend u th februari not th ...</td>\n",
              "      <td>54</td>\n",
              "    </tr>\n",
              "    <tr>\n",
              "      <th>9</th>\n",
              "      <td>254941790757601280</td>\n",
              "      <td>negative</td>\n",
              "      <td>They may have a SuperBowl in Dallas\\u002c but ...</td>\n",
              "      <td>21</td>\n",
              "      <td>may superbowl dalla u c dalla u win superbowl ...</td>\n",
              "      <td>67</td>\n",
              "    </tr>\n",
              "  </tbody>\n",
              "</table>\n",
              "</div>\n",
              "    <div class=\"colab-df-buttons\">\n",
              "\n",
              "  <div class=\"colab-df-container\">\n",
              "    <button class=\"colab-df-convert\" onclick=\"convertToInteractive('df-5ffe2748-d62a-44b6-ac3a-9fe1d3f39dcd')\"\n",
              "            title=\"Convert this dataframe to an interactive table.\"\n",
              "            style=\"display:none;\">\n",
              "\n",
              "  <svg xmlns=\"http://www.w3.org/2000/svg\" height=\"24px\" viewBox=\"0 -960 960 960\">\n",
              "    <path d=\"M120-120v-720h720v720H120Zm60-500h600v-160H180v160Zm220 220h160v-160H400v160Zm0 220h160v-160H400v160ZM180-400h160v-160H180v160Zm440 0h160v-160H620v160ZM180-180h160v-160H180v160Zm440 0h160v-160H620v160Z\"/>\n",
              "  </svg>\n",
              "    </button>\n",
              "\n",
              "  <style>\n",
              "    .colab-df-container {\n",
              "      display:flex;\n",
              "      gap: 12px;\n",
              "    }\n",
              "\n",
              "    .colab-df-convert {\n",
              "      background-color: #E8F0FE;\n",
              "      border: none;\n",
              "      border-radius: 50%;\n",
              "      cursor: pointer;\n",
              "      display: none;\n",
              "      fill: #1967D2;\n",
              "      height: 32px;\n",
              "      padding: 0 0 0 0;\n",
              "      width: 32px;\n",
              "    }\n",
              "\n",
              "    .colab-df-convert:hover {\n",
              "      background-color: #E2EBFA;\n",
              "      box-shadow: 0px 1px 2px rgba(60, 64, 67, 0.3), 0px 1px 3px 1px rgba(60, 64, 67, 0.15);\n",
              "      fill: #174EA6;\n",
              "    }\n",
              "\n",
              "    .colab-df-buttons div {\n",
              "      margin-bottom: 4px;\n",
              "    }\n",
              "\n",
              "    [theme=dark] .colab-df-convert {\n",
              "      background-color: #3B4455;\n",
              "      fill: #D2E3FC;\n",
              "    }\n",
              "\n",
              "    [theme=dark] .colab-df-convert:hover {\n",
              "      background-color: #434B5C;\n",
              "      box-shadow: 0px 1px 3px 1px rgba(0, 0, 0, 0.15);\n",
              "      filter: drop-shadow(0px 1px 2px rgba(0, 0, 0, 0.3));\n",
              "      fill: #FFFFFF;\n",
              "    }\n",
              "  </style>\n",
              "\n",
              "    <script>\n",
              "      const buttonEl =\n",
              "        document.querySelector('#df-5ffe2748-d62a-44b6-ac3a-9fe1d3f39dcd button.colab-df-convert');\n",
              "      buttonEl.style.display =\n",
              "        google.colab.kernel.accessAllowed ? 'block' : 'none';\n",
              "\n",
              "      async function convertToInteractive(key) {\n",
              "        const element = document.querySelector('#df-5ffe2748-d62a-44b6-ac3a-9fe1d3f39dcd');\n",
              "        const dataTable =\n",
              "          await google.colab.kernel.invokeFunction('convertToInteractive',\n",
              "                                                    [key], {});\n",
              "        if (!dataTable) return;\n",
              "\n",
              "        const docLinkHtml = 'Like what you see? Visit the ' +\n",
              "          '<a target=\"_blank\" href=https://colab.research.google.com/notebooks/data_table.ipynb>data table notebook</a>'\n",
              "          + ' to learn more about interactive tables.';\n",
              "        element.innerHTML = '';\n",
              "        dataTable['output_type'] = 'display_data';\n",
              "        await google.colab.output.renderOutput(dataTable, element);\n",
              "        const docLink = document.createElement('div');\n",
              "        docLink.innerHTML = docLinkHtml;\n",
              "        element.appendChild(docLink);\n",
              "      }\n",
              "    </script>\n",
              "  </div>\n",
              "\n",
              "\n",
              "<div id=\"df-763c4bba-83c8-47eb-b170-83c3a54f7776\">\n",
              "  <button class=\"colab-df-quickchart\" onclick=\"quickchart('df-763c4bba-83c8-47eb-b170-83c3a54f7776')\"\n",
              "            title=\"Suggest charts\"\n",
              "            style=\"display:none;\">\n",
              "\n",
              "<svg xmlns=\"http://www.w3.org/2000/svg\" height=\"24px\"viewBox=\"0 0 24 24\"\n",
              "     width=\"24px\">\n",
              "    <g>\n",
              "        <path d=\"M19 3H5c-1.1 0-2 .9-2 2v14c0 1.1.9 2 2 2h14c1.1 0 2-.9 2-2V5c0-1.1-.9-2-2-2zM9 17H7v-7h2v7zm4 0h-2V7h2v10zm4 0h-2v-4h2v4z\"/>\n",
              "    </g>\n",
              "</svg>\n",
              "  </button>\n",
              "\n",
              "<style>\n",
              "  .colab-df-quickchart {\n",
              "      --bg-color: #E8F0FE;\n",
              "      --fill-color: #1967D2;\n",
              "      --hover-bg-color: #E2EBFA;\n",
              "      --hover-fill-color: #174EA6;\n",
              "      --disabled-fill-color: #AAA;\n",
              "      --disabled-bg-color: #DDD;\n",
              "  }\n",
              "\n",
              "  [theme=dark] .colab-df-quickchart {\n",
              "      --bg-color: #3B4455;\n",
              "      --fill-color: #D2E3FC;\n",
              "      --hover-bg-color: #434B5C;\n",
              "      --hover-fill-color: #FFFFFF;\n",
              "      --disabled-bg-color: #3B4455;\n",
              "      --disabled-fill-color: #666;\n",
              "  }\n",
              "\n",
              "  .colab-df-quickchart {\n",
              "    background-color: var(--bg-color);\n",
              "    border: none;\n",
              "    border-radius: 50%;\n",
              "    cursor: pointer;\n",
              "    display: none;\n",
              "    fill: var(--fill-color);\n",
              "    height: 32px;\n",
              "    padding: 0;\n",
              "    width: 32px;\n",
              "  }\n",
              "\n",
              "  .colab-df-quickchart:hover {\n",
              "    background-color: var(--hover-bg-color);\n",
              "    box-shadow: 0 1px 2px rgba(60, 64, 67, 0.3), 0 1px 3px 1px rgba(60, 64, 67, 0.15);\n",
              "    fill: var(--button-hover-fill-color);\n",
              "  }\n",
              "\n",
              "  .colab-df-quickchart-complete:disabled,\n",
              "  .colab-df-quickchart-complete:disabled:hover {\n",
              "    background-color: var(--disabled-bg-color);\n",
              "    fill: var(--disabled-fill-color);\n",
              "    box-shadow: none;\n",
              "  }\n",
              "\n",
              "  .colab-df-spinner {\n",
              "    border: 2px solid var(--fill-color);\n",
              "    border-color: transparent;\n",
              "    border-bottom-color: var(--fill-color);\n",
              "    animation:\n",
              "      spin 1s steps(1) infinite;\n",
              "  }\n",
              "\n",
              "  @keyframes spin {\n",
              "    0% {\n",
              "      border-color: transparent;\n",
              "      border-bottom-color: var(--fill-color);\n",
              "      border-left-color: var(--fill-color);\n",
              "    }\n",
              "    20% {\n",
              "      border-color: transparent;\n",
              "      border-left-color: var(--fill-color);\n",
              "      border-top-color: var(--fill-color);\n",
              "    }\n",
              "    30% {\n",
              "      border-color: transparent;\n",
              "      border-left-color: var(--fill-color);\n",
              "      border-top-color: var(--fill-color);\n",
              "      border-right-color: var(--fill-color);\n",
              "    }\n",
              "    40% {\n",
              "      border-color: transparent;\n",
              "      border-right-color: var(--fill-color);\n",
              "      border-top-color: var(--fill-color);\n",
              "    }\n",
              "    60% {\n",
              "      border-color: transparent;\n",
              "      border-right-color: var(--fill-color);\n",
              "    }\n",
              "    80% {\n",
              "      border-color: transparent;\n",
              "      border-right-color: var(--fill-color);\n",
              "      border-bottom-color: var(--fill-color);\n",
              "    }\n",
              "    90% {\n",
              "      border-color: transparent;\n",
              "      border-bottom-color: var(--fill-color);\n",
              "    }\n",
              "  }\n",
              "</style>\n",
              "\n",
              "  <script>\n",
              "    async function quickchart(key) {\n",
              "      const quickchartButtonEl =\n",
              "        document.querySelector('#' + key + ' button');\n",
              "      quickchartButtonEl.disabled = true;  // To prevent multiple clicks.\n",
              "      quickchartButtonEl.classList.add('colab-df-spinner');\n",
              "      try {\n",
              "        const charts = await google.colab.kernel.invokeFunction(\n",
              "            'suggestCharts', [key], {});\n",
              "      } catch (error) {\n",
              "        console.error('Error during call to suggestCharts:', error);\n",
              "      }\n",
              "      quickchartButtonEl.classList.remove('colab-df-spinner');\n",
              "      quickchartButtonEl.classList.add('colab-df-quickchart-complete');\n",
              "    }\n",
              "    (() => {\n",
              "      let quickchartButtonEl =\n",
              "        document.querySelector('#df-763c4bba-83c8-47eb-b170-83c3a54f7776 button');\n",
              "      quickchartButtonEl.style.display =\n",
              "        google.colab.kernel.accessAllowed ? 'block' : 'none';\n",
              "    })();\n",
              "  </script>\n",
              "</div>\n",
              "\n",
              "    </div>\n",
              "  </div>\n"
            ],
            "application/vnd.google.colaboratory.intrinsic+json": {
              "type": "dataframe",
              "variable_name": "df",
              "summary": "{\n  \"name\": \"df\",\n  \"rows\": 14885,\n  \"fields\": [\n    {\n      \"column\": \"Tweet_ID\",\n      \"properties\": {\n        \"dtype\": \"number\",\n        \"std\": 54224463843682184,\n        \"min\": 90832477970636801,\n        \"max\": 264267144466952193,\n        \"num_unique_values\": 14819,\n        \"samples\": [\n          100273589516910592,\n          260805278885367809,\n          258931021142179841\n        ],\n        \"semantic_type\": \"\",\n        \"description\": \"\"\n      }\n    },\n    {\n      \"column\": \"Sentiment\",\n      \"properties\": {\n        \"dtype\": \"category\",\n        \"num_unique_values\": 3,\n        \"samples\": [\n          \"positive\",\n          \"negative\",\n          \"neutral\"\n        ],\n        \"semantic_type\": \"\",\n        \"description\": \"\"\n      }\n    },\n    {\n      \"column\": \"Tweet_Text\",\n      \"properties\": {\n        \"dtype\": \"string\",\n        \"num_unique_values\": 14829,\n        \"samples\": [\n          \"Tiffany will be one of the MCs along with CNBlue\\\\u2019s Yonghwa and Beast\\\\u2019s Gikwang for SBS KPOP Super Concert on November 10  cr: ForeverJeTi\",\n          \"Want to gan see Ferry Corsten at digi on Friday... Can\\\\u2019t be bad if your ranked 15th in the world\\\\u002c above Angello\\\\u002c Hardwell & Calvin Harris.\",\n          \"I'm so glad the Vampire Diaries won an award last night. Loves them all :)  http://t.co/wD4d3wI\"\n        ],\n        \"semantic_type\": \"\",\n        \"description\": \"\"\n      }\n    },\n    {\n      \"column\": \"wordcount\",\n      \"properties\": {\n        \"dtype\": \"number\",\n        \"std\": 4,\n        \"min\": 4,\n        \"max\": 35,\n        \"num_unique_values\": 30,\n        \"samples\": [\n          5,\n          26,\n          7\n        ],\n        \"semantic_type\": \"\",\n        \"description\": \"\"\n      }\n    },\n    {\n      \"column\": \"Clean_Tweet\",\n      \"properties\": {\n        \"dtype\": \"string\",\n        \"num_unique_values\": 14775,\n        \"samples\": [\n          \"today tuesday question accept bc championship game without sec champion staff cfn weigh http co hj dfwz\",\n          \"new blog post marvel u phase two kick u iron man u trailer octob rd http co u rzyxkz\",\n          \"u go tomorrow lot swap london child u book swap http co oiwwcn via\"\n        ],\n        \"semantic_type\": \"\",\n        \"description\": \"\"\n      }\n    },\n    {\n      \"column\": \"length_tweet\",\n      \"properties\": {\n        \"dtype\": \"number\",\n        \"std\": 20,\n        \"min\": 10,\n        \"max\": 144,\n        \"num_unique_values\": 124,\n        \"samples\": [\n          110,\n          38,\n          107\n        ],\n        \"semantic_type\": \"\",\n        \"description\": \"\"\n      }\n    }\n  ]\n}"
            }
          },
          "metadata": {},
          "execution_count": 15
        }
      ],
      "source": [
        "df['Clean_Tweet']=text[:len(df)]\n",
        "df['length_tweet']=df['Clean_Tweet'].str.len()\n",
        "#test['preprocess_tweet']=text[len(df):]\n",
        "df.head(10)"
      ]
    },
    {
      "cell_type": "markdown",
      "metadata": {
        "id": "69jQeecX0kNA"
      },
      "source": [
        "**Import the module pipline**"
      ]
    },
    {
      "cell_type": "code",
      "execution_count": null,
      "metadata": {
        "colab": {
          "base_uri": "https://localhost:8080/"
        },
        "id": "SEJNSP2-L_HK",
        "outputId": "266626c1-2573-4bf2-999b-6455af87e436"
      },
      "outputs": [
        {
          "name": "stdout",
          "output_type": "stream",
          "text": [
            "Mounted at /content/drive\n"
          ]
        }
      ],
      "source": [
        "from google.colab import drive\n",
        "drive.mount('/content/drive')"
      ]
    },
    {
      "cell_type": "code",
      "execution_count": null,
      "metadata": {
        "id": "NXtWpVk-Lk0y"
      },
      "outputs": [],
      "source": [
        "import sys\n",
        "#sys.path.append('/content/drive/MyDrive')\n",
        "import model"
      ]
    },
    {
      "cell_type": "code",
      "execution_count": null,
      "metadata": {
        "id": "t8KynGBQ0uvo"
      },
      "outputs": [],
      "source": [
        "from model import ModelPipeline\n"
      ]
    },
    {
      "cell_type": "markdown",
      "metadata": {
        "id": "ViPB63tx0FNA"
      },
      "source": [
        "**Extracting top words for BOW representation**\n"
      ]
    },
    {
      "cell_type": "code",
      "execution_count": null,
      "metadata": {
        "colab": {
          "base_uri": "https://localhost:8080/"
        },
        "id": "VX8sAyTS0GWD",
        "outputId": "d861e42e-3188-400d-c134-eb888f187718"
      },
      "outputs": [
        {
          "output_type": "stream",
          "name": "stdout",
          "text": [
            "Vocabulary length for Bag-of-Words: 21571\n"
          ]
        }
      ],
      "source": [
        "def get_vocabs_bow(pos_words_list, neg_words_list,neu_words_list):\n",
        "  #Initializes an empty dictionary to store the vocabulary.\n",
        "    vocabs = {}\n",
        "    for word in pos_words_list:\n",
        "        vocabs[word] = vocabs.get(word, 0) + 1\n",
        "\n",
        "    for word in neg_words_list:\n",
        "        vocabs[word] = vocabs.get(word, 0) + 1\n",
        "\n",
        "    for word in neu_words_list:\n",
        "        vocabs[word] = vocabs.get(word, 0) + 1\n",
        "    #returns the keys of the dictionary, which are the unique words\n",
        "    return list(vocabs.keys())\n",
        "\n",
        "# Assuming top_pos_words and top_neg_words are lists of words\n",
        "top_pos_words = hero.top_words(df[df['Sentiment'] == 'positive']['Clean_Tweet']).index.tolist()\n",
        "top_neg_words = hero.top_words(df[df['Sentiment'] == 'negative']['Clean_Tweet']).index.tolist()\n",
        "top_neu_words = hero.top_words(df[df['Sentiment'] == 'neutral']['Clean_Tweet']).index.tolist()\n",
        "\n",
        "# Get the vocabulary for Bag-of-Words representation\n",
        "vocab_bow = get_vocabs_bow(top_pos_words, top_neg_words,top_neu_words)\n",
        "\n",
        "print(\"Vocabulary length for Bag-of-Words:\", len(vocab_bow))"
      ]
    },
    {
      "cell_type": "markdown",
      "metadata": {
        "id": "oUmX2v7u72Vx"
      },
      "source": [
        "**Extracting top words forTF-IDF representation**\n"
      ]
    },
    {
      "cell_type": "code",
      "execution_count": null,
      "metadata": {
        "colab": {
          "base_uri": "https://localhost:8080/"
        },
        "id": "v6GRDK0BLZ8A",
        "outputId": "59314154-0dbb-413b-ce8e-76457c2a3326"
      },
      "outputs": [
        {
          "output_type": "stream",
          "name": "stdout",
          "text": [
            "ft:5, vocab lenght:2916\n"
          ]
        }
      ],
      "source": [
        "def get_vocabs(pos_words_dic, neg_words_dic,neu_words_dic, ft):\n",
        "    vocabs = []\n",
        "    for word,freq in pos_words_dic.items():\n",
        "        if freq > ft and word not in vocabs:\n",
        "            vocabs.append(word)\n",
        "\n",
        "    for word,freq in neg_words_dic.items():\n",
        "        if freq > ft and word not in vocabs:\n",
        "            vocabs.append(word)\n",
        "    for word,freq in neu_words_dic.items():\n",
        "        if freq > ft and word not in vocabs:\n",
        "            vocabs.append(word)\n",
        "    return vocabs\n",
        "\n",
        "\n",
        "\n",
        "ft = 5\n",
        "#frequency threshold\". It's a minimum frequency value that a word must have to be included in the vocabulary.\n",
        "top_pos_words = hero.top_words(df[df['Sentiment'] == 'positive']['Clean_Tweet'])\n",
        "top_neg_words = hero.top_words(df[df['Sentiment'] == 'negative']['Clean_Tweet'])\n",
        "top_neu_words = hero.top_words(df[df['Sentiment'] == 'neutral']['Clean_Tweet'])\n",
        "\n",
        "vocabs5 = get_vocabs(top_pos_words.to_dict(), top_neg_words.to_dict(),top_neu_words.to_dict(), ft=ft)\n",
        "#print(\"Vocabulary List:\")\n",
        "#for word in vocabs5:\n",
        "    #print(word)\n",
        "print( \"ft:{}, vocab lenght:{}\".format(ft, len(vocabs5)))"
      ]
    },
    {
      "cell_type": "markdown",
      "metadata": {
        "id": "0RY4JjGhJHpm"
      },
      "source": [
        "#**word2vec model**\n",
        "\n",
        "**size:**The number of dimensions of the embeddings and the default is 100.\n",
        "\n",
        "**window:** The maximum distance between a target word and words around the target word. The default window is 5.\n",
        "\n",
        "**min_count:**The minimum count of words to consider when training the model; words with occurrence less than this count will be ignored. The default for min_count is 5.\n",
        "\n",
        "**workers:** The number of partitions during training and the default workers is 3.\n",
        "\n",
        "**sg:** The training algorithm, either CBOW(0) or skip gram(1). The default training algorithm is CBOW."
      ]
    },
    {
      "cell_type": "code",
      "execution_count": null,
      "metadata": {
        "colab": {
          "base_uri": "https://localhost:8080/"
        },
        "id": "m3zHEIO0JNDs",
        "outputId": "4f021060-2a77-4f1e-aae7-aa8ac63be4fe"
      },
      "outputs": [
        {
          "output_type": "stream",
          "name": "stderr",
          "text": [
            "WARNING:gensim.models.word2vec:Effective 'alpha' higher than previous training cycles\n"
          ]
        },
        {
          "output_type": "execute_result",
          "data": {
            "text/plain": [
              "(3348221, 3899260)"
            ]
          },
          "metadata": {},
          "execution_count": 20
        }
      ],
      "source": [
        "import gensim\n",
        "from nltk.tokenize import word_tokenize\n",
        "tokenize=df['Clean_Tweet'].apply(lambda x: x.split())\n",
        "w2vec_model = gensim.models.Word2Vec(tokenize, min_count=1, vector_size=100, window=5, sg=1)\n",
        "w2vec_model.train(tokenize, total_examples=len(df['Clean_Tweet']), epochs=20,start_alpha=0.025, end_alpha=0.0001)"
      ]
    },
    {
      "cell_type": "code",
      "execution_count": null,
      "metadata": {
        "colab": {
          "base_uri": "https://localhost:8080/"
        },
        "id": "vPfVUAWjKhGl",
        "outputId": "9685301a-9631-4e63-e39c-538cfcd235f1"
      },
      "outputs": [
        {
          "output_type": "stream",
          "name": "stdout",
          "text": [
            "Number of words that occurred minimum 5 times: 4466\n",
            "Sample words: ['u', 'c', 'http', 'co', 'tomorrow', 'th', 'go', 'day', 'may', 'night', 'st', 'get', 'see', 'saturday', 'game', 'time', 'sunday', 'come', 'friday', 'like', 'tonight', 'watch', 'not', 'today', 'one', 'nd', 'good', 'new', 'play', 'monday', 'make', 'love', 'last', 'want', 'rt', 'thursday', 'v', 'pm', 'back', 'show', 'think', 'rd', 'got', 'look', 'wait', 'know', 'start', 'win', 'sat', 'live']\n"
          ]
        }
      ],
      "source": [
        "# Get the word index dictionary\n",
        "key_to_index = w2vec_model.wv.key_to_index\n",
        "\n",
        "# Get all the words that occurred at least 5 times\n",
        "w2v_words = [word for word in key_to_index.keys() if w2vec_model.wv.get_vecattr(word, \"count\") >= 5]\n",
        "\n",
        "print(\"Number of words that occurred minimum 5 times:\", len(w2v_words))\n",
        "print(\"Sample words:\", w2v_words[:50])"
      ]
    },
    {
      "cell_type": "code",
      "execution_count": null,
      "metadata": {
        "colab": {
          "base_uri": "https://localhost:8080/"
        },
        "id": "UsIjFxgrKmck",
        "outputId": "f238a579-da79-40f8-bf2b-cda4a5885699"
      },
      "outputs": [
        {
          "output_type": "stream",
          "name": "stderr",
          "text": [
            "100%|██████████| 14885/14885 [00:05<00:00, 2585.13it/s]"
          ]
        },
        {
          "output_type": "stream",
          "name": "stdout",
          "text": [
            "14885\n",
            "100\n"
          ]
        },
        {
          "output_type": "stream",
          "name": "stderr",
          "text": [
            "\n"
          ]
        }
      ],
      "source": [
        "vector=[]\n",
        "from tqdm import tqdm\n",
        "for sent in tqdm(tokenize):\n",
        "  sent_vec=np.zeros(100)\n",
        "  count =0\n",
        "  for word in sent:\n",
        "    if word in w2v_words:\n",
        "      vec = w2vec_model.wv[word]\n",
        "      sent_vec += vec\n",
        "      count += 1\n",
        "  if count != 0:\n",
        "    sent_vec /= count #normalize\n",
        "  vector.append(sent_vec)\n",
        "print(len(vector))\n",
        "print(len(vector[0]))"
      ]
    },
    {
      "cell_type": "code",
      "execution_count": null,
      "metadata": {
        "colab": {
          "base_uri": "https://localhost:8080/",
          "height": 273
        },
        "id": "LH6i6dAKKxCk",
        "outputId": "78b1d1b1-71de-4384-a8ab-fa9b867d7637"
      },
      "outputs": [
        {
          "output_type": "stream",
          "name": "stdout",
          "text": [
            "number of uniqe words 100\n"
          ]
        },
        {
          "output_type": "execute_result",
          "data": {
            "text/plain": [
              "          0         1         2         3         4         5         6  \\\n",
              "0  0.333443  0.317615 -0.005225 -0.046891 -0.071402 -0.435569  0.436020   \n",
              "1  0.320403  0.279612  0.019927  0.169351 -0.392850 -0.506987  0.184041   \n",
              "2  0.089709  0.468135  0.406671  0.026740 -0.142645 -0.110398  0.263894   \n",
              "3  0.228320  0.496882  0.075983  0.183676 -0.065536 -0.360034  0.251986   \n",
              "4 -0.017700  0.168297 -0.174300  0.110831  0.006763 -0.438246  0.241469   \n",
              "\n",
              "          7         8         9  ...        92        93        94        95  \\\n",
              "0  0.292435 -0.329549 -0.021708  ...  0.048454  0.169454  0.317833 -0.024710   \n",
              "1  0.402750 -0.193528 -0.254265  ...  0.057462 -0.162903  0.270012  0.071349   \n",
              "2  0.614561 -0.261858 -0.347828  ...  0.053182 -0.068776  0.280597  0.096331   \n",
              "3  0.573757 -0.247639 -0.093339  ...  0.022283 -0.101534  0.427687 -0.013648   \n",
              "4  0.595633 -0.027255 -0.219587  ...  0.171160 -0.296391  0.306772  0.256628   \n",
              "\n",
              "         96        97        98        99  length_tweet  Sentiment  \n",
              "0 -0.074877 -0.355324  0.041879  0.380275            14   positive  \n",
              "1  0.017188 -0.195499 -0.158059  0.596509            14   negative  \n",
              "2 -0.073252 -0.272726 -0.370838  0.359985            16   negative  \n",
              "3  0.004628 -0.002777 -0.081377  0.389555            22   negative  \n",
              "4  0.014630 -0.536244  0.200607 -0.026436            21    neutral  \n",
              "\n",
              "[5 rows x 102 columns]"
            ],
            "text/html": [
              "\n",
              "  <div id=\"df-d4aa2b1a-0aa5-455c-956e-5a2b8b5957c4\" class=\"colab-df-container\">\n",
              "    <div>\n",
              "<style scoped>\n",
              "    .dataframe tbody tr th:only-of-type {\n",
              "        vertical-align: middle;\n",
              "    }\n",
              "\n",
              "    .dataframe tbody tr th {\n",
              "        vertical-align: top;\n",
              "    }\n",
              "\n",
              "    .dataframe thead th {\n",
              "        text-align: right;\n",
              "    }\n",
              "</style>\n",
              "<table border=\"1\" class=\"dataframe\">\n",
              "  <thead>\n",
              "    <tr style=\"text-align: right;\">\n",
              "      <th></th>\n",
              "      <th>0</th>\n",
              "      <th>1</th>\n",
              "      <th>2</th>\n",
              "      <th>3</th>\n",
              "      <th>4</th>\n",
              "      <th>5</th>\n",
              "      <th>6</th>\n",
              "      <th>7</th>\n",
              "      <th>8</th>\n",
              "      <th>9</th>\n",
              "      <th>...</th>\n",
              "      <th>92</th>\n",
              "      <th>93</th>\n",
              "      <th>94</th>\n",
              "      <th>95</th>\n",
              "      <th>96</th>\n",
              "      <th>97</th>\n",
              "      <th>98</th>\n",
              "      <th>99</th>\n",
              "      <th>length_tweet</th>\n",
              "      <th>Sentiment</th>\n",
              "    </tr>\n",
              "  </thead>\n",
              "  <tbody>\n",
              "    <tr>\n",
              "      <th>0</th>\n",
              "      <td>0.333443</td>\n",
              "      <td>0.317615</td>\n",
              "      <td>-0.005225</td>\n",
              "      <td>-0.046891</td>\n",
              "      <td>-0.071402</td>\n",
              "      <td>-0.435569</td>\n",
              "      <td>0.436020</td>\n",
              "      <td>0.292435</td>\n",
              "      <td>-0.329549</td>\n",
              "      <td>-0.021708</td>\n",
              "      <td>...</td>\n",
              "      <td>0.048454</td>\n",
              "      <td>0.169454</td>\n",
              "      <td>0.317833</td>\n",
              "      <td>-0.024710</td>\n",
              "      <td>-0.074877</td>\n",
              "      <td>-0.355324</td>\n",
              "      <td>0.041879</td>\n",
              "      <td>0.380275</td>\n",
              "      <td>14</td>\n",
              "      <td>positive</td>\n",
              "    </tr>\n",
              "    <tr>\n",
              "      <th>1</th>\n",
              "      <td>0.320403</td>\n",
              "      <td>0.279612</td>\n",
              "      <td>0.019927</td>\n",
              "      <td>0.169351</td>\n",
              "      <td>-0.392850</td>\n",
              "      <td>-0.506987</td>\n",
              "      <td>0.184041</td>\n",
              "      <td>0.402750</td>\n",
              "      <td>-0.193528</td>\n",
              "      <td>-0.254265</td>\n",
              "      <td>...</td>\n",
              "      <td>0.057462</td>\n",
              "      <td>-0.162903</td>\n",
              "      <td>0.270012</td>\n",
              "      <td>0.071349</td>\n",
              "      <td>0.017188</td>\n",
              "      <td>-0.195499</td>\n",
              "      <td>-0.158059</td>\n",
              "      <td>0.596509</td>\n",
              "      <td>14</td>\n",
              "      <td>negative</td>\n",
              "    </tr>\n",
              "    <tr>\n",
              "      <th>2</th>\n",
              "      <td>0.089709</td>\n",
              "      <td>0.468135</td>\n",
              "      <td>0.406671</td>\n",
              "      <td>0.026740</td>\n",
              "      <td>-0.142645</td>\n",
              "      <td>-0.110398</td>\n",
              "      <td>0.263894</td>\n",
              "      <td>0.614561</td>\n",
              "      <td>-0.261858</td>\n",
              "      <td>-0.347828</td>\n",
              "      <td>...</td>\n",
              "      <td>0.053182</td>\n",
              "      <td>-0.068776</td>\n",
              "      <td>0.280597</td>\n",
              "      <td>0.096331</td>\n",
              "      <td>-0.073252</td>\n",
              "      <td>-0.272726</td>\n",
              "      <td>-0.370838</td>\n",
              "      <td>0.359985</td>\n",
              "      <td>16</td>\n",
              "      <td>negative</td>\n",
              "    </tr>\n",
              "    <tr>\n",
              "      <th>3</th>\n",
              "      <td>0.228320</td>\n",
              "      <td>0.496882</td>\n",
              "      <td>0.075983</td>\n",
              "      <td>0.183676</td>\n",
              "      <td>-0.065536</td>\n",
              "      <td>-0.360034</td>\n",
              "      <td>0.251986</td>\n",
              "      <td>0.573757</td>\n",
              "      <td>-0.247639</td>\n",
              "      <td>-0.093339</td>\n",
              "      <td>...</td>\n",
              "      <td>0.022283</td>\n",
              "      <td>-0.101534</td>\n",
              "      <td>0.427687</td>\n",
              "      <td>-0.013648</td>\n",
              "      <td>0.004628</td>\n",
              "      <td>-0.002777</td>\n",
              "      <td>-0.081377</td>\n",
              "      <td>0.389555</td>\n",
              "      <td>22</td>\n",
              "      <td>negative</td>\n",
              "    </tr>\n",
              "    <tr>\n",
              "      <th>4</th>\n",
              "      <td>-0.017700</td>\n",
              "      <td>0.168297</td>\n",
              "      <td>-0.174300</td>\n",
              "      <td>0.110831</td>\n",
              "      <td>0.006763</td>\n",
              "      <td>-0.438246</td>\n",
              "      <td>0.241469</td>\n",
              "      <td>0.595633</td>\n",
              "      <td>-0.027255</td>\n",
              "      <td>-0.219587</td>\n",
              "      <td>...</td>\n",
              "      <td>0.171160</td>\n",
              "      <td>-0.296391</td>\n",
              "      <td>0.306772</td>\n",
              "      <td>0.256628</td>\n",
              "      <td>0.014630</td>\n",
              "      <td>-0.536244</td>\n",
              "      <td>0.200607</td>\n",
              "      <td>-0.026436</td>\n",
              "      <td>21</td>\n",
              "      <td>neutral</td>\n",
              "    </tr>\n",
              "  </tbody>\n",
              "</table>\n",
              "<p>5 rows × 102 columns</p>\n",
              "</div>\n",
              "    <div class=\"colab-df-buttons\">\n",
              "\n",
              "  <div class=\"colab-df-container\">\n",
              "    <button class=\"colab-df-convert\" onclick=\"convertToInteractive('df-d4aa2b1a-0aa5-455c-956e-5a2b8b5957c4')\"\n",
              "            title=\"Convert this dataframe to an interactive table.\"\n",
              "            style=\"display:none;\">\n",
              "\n",
              "  <svg xmlns=\"http://www.w3.org/2000/svg\" height=\"24px\" viewBox=\"0 -960 960 960\">\n",
              "    <path d=\"M120-120v-720h720v720H120Zm60-500h600v-160H180v160Zm220 220h160v-160H400v160Zm0 220h160v-160H400v160ZM180-400h160v-160H180v160Zm440 0h160v-160H620v160ZM180-180h160v-160H180v160Zm440 0h160v-160H620v160Z\"/>\n",
              "  </svg>\n",
              "    </button>\n",
              "\n",
              "  <style>\n",
              "    .colab-df-container {\n",
              "      display:flex;\n",
              "      gap: 12px;\n",
              "    }\n",
              "\n",
              "    .colab-df-convert {\n",
              "      background-color: #E8F0FE;\n",
              "      border: none;\n",
              "      border-radius: 50%;\n",
              "      cursor: pointer;\n",
              "      display: none;\n",
              "      fill: #1967D2;\n",
              "      height: 32px;\n",
              "      padding: 0 0 0 0;\n",
              "      width: 32px;\n",
              "    }\n",
              "\n",
              "    .colab-df-convert:hover {\n",
              "      background-color: #E2EBFA;\n",
              "      box-shadow: 0px 1px 2px rgba(60, 64, 67, 0.3), 0px 1px 3px 1px rgba(60, 64, 67, 0.15);\n",
              "      fill: #174EA6;\n",
              "    }\n",
              "\n",
              "    .colab-df-buttons div {\n",
              "      margin-bottom: 4px;\n",
              "    }\n",
              "\n",
              "    [theme=dark] .colab-df-convert {\n",
              "      background-color: #3B4455;\n",
              "      fill: #D2E3FC;\n",
              "    }\n",
              "\n",
              "    [theme=dark] .colab-df-convert:hover {\n",
              "      background-color: #434B5C;\n",
              "      box-shadow: 0px 1px 3px 1px rgba(0, 0, 0, 0.15);\n",
              "      filter: drop-shadow(0px 1px 2px rgba(0, 0, 0, 0.3));\n",
              "      fill: #FFFFFF;\n",
              "    }\n",
              "  </style>\n",
              "\n",
              "    <script>\n",
              "      const buttonEl =\n",
              "        document.querySelector('#df-d4aa2b1a-0aa5-455c-956e-5a2b8b5957c4 button.colab-df-convert');\n",
              "      buttonEl.style.display =\n",
              "        google.colab.kernel.accessAllowed ? 'block' : 'none';\n",
              "\n",
              "      async function convertToInteractive(key) {\n",
              "        const element = document.querySelector('#df-d4aa2b1a-0aa5-455c-956e-5a2b8b5957c4');\n",
              "        const dataTable =\n",
              "          await google.colab.kernel.invokeFunction('convertToInteractive',\n",
              "                                                    [key], {});\n",
              "        if (!dataTable) return;\n",
              "\n",
              "        const docLinkHtml = 'Like what you see? Visit the ' +\n",
              "          '<a target=\"_blank\" href=https://colab.research.google.com/notebooks/data_table.ipynb>data table notebook</a>'\n",
              "          + ' to learn more about interactive tables.';\n",
              "        element.innerHTML = '';\n",
              "        dataTable['output_type'] = 'display_data';\n",
              "        await google.colab.output.renderOutput(dataTable, element);\n",
              "        const docLink = document.createElement('div');\n",
              "        docLink.innerHTML = docLinkHtml;\n",
              "        element.appendChild(docLink);\n",
              "      }\n",
              "    </script>\n",
              "  </div>\n",
              "\n",
              "\n",
              "<div id=\"df-cb73210b-86e2-49c1-a0db-7da4d0f0efde\">\n",
              "  <button class=\"colab-df-quickchart\" onclick=\"quickchart('df-cb73210b-86e2-49c1-a0db-7da4d0f0efde')\"\n",
              "            title=\"Suggest charts\"\n",
              "            style=\"display:none;\">\n",
              "\n",
              "<svg xmlns=\"http://www.w3.org/2000/svg\" height=\"24px\"viewBox=\"0 0 24 24\"\n",
              "     width=\"24px\">\n",
              "    <g>\n",
              "        <path d=\"M19 3H5c-1.1 0-2 .9-2 2v14c0 1.1.9 2 2 2h14c1.1 0 2-.9 2-2V5c0-1.1-.9-2-2-2zM9 17H7v-7h2v7zm4 0h-2V7h2v10zm4 0h-2v-4h2v4z\"/>\n",
              "    </g>\n",
              "</svg>\n",
              "  </button>\n",
              "\n",
              "<style>\n",
              "  .colab-df-quickchart {\n",
              "      --bg-color: #E8F0FE;\n",
              "      --fill-color: #1967D2;\n",
              "      --hover-bg-color: #E2EBFA;\n",
              "      --hover-fill-color: #174EA6;\n",
              "      --disabled-fill-color: #AAA;\n",
              "      --disabled-bg-color: #DDD;\n",
              "  }\n",
              "\n",
              "  [theme=dark] .colab-df-quickchart {\n",
              "      --bg-color: #3B4455;\n",
              "      --fill-color: #D2E3FC;\n",
              "      --hover-bg-color: #434B5C;\n",
              "      --hover-fill-color: #FFFFFF;\n",
              "      --disabled-bg-color: #3B4455;\n",
              "      --disabled-fill-color: #666;\n",
              "  }\n",
              "\n",
              "  .colab-df-quickchart {\n",
              "    background-color: var(--bg-color);\n",
              "    border: none;\n",
              "    border-radius: 50%;\n",
              "    cursor: pointer;\n",
              "    display: none;\n",
              "    fill: var(--fill-color);\n",
              "    height: 32px;\n",
              "    padding: 0;\n",
              "    width: 32px;\n",
              "  }\n",
              "\n",
              "  .colab-df-quickchart:hover {\n",
              "    background-color: var(--hover-bg-color);\n",
              "    box-shadow: 0 1px 2px rgba(60, 64, 67, 0.3), 0 1px 3px 1px rgba(60, 64, 67, 0.15);\n",
              "    fill: var(--button-hover-fill-color);\n",
              "  }\n",
              "\n",
              "  .colab-df-quickchart-complete:disabled,\n",
              "  .colab-df-quickchart-complete:disabled:hover {\n",
              "    background-color: var(--disabled-bg-color);\n",
              "    fill: var(--disabled-fill-color);\n",
              "    box-shadow: none;\n",
              "  }\n",
              "\n",
              "  .colab-df-spinner {\n",
              "    border: 2px solid var(--fill-color);\n",
              "    border-color: transparent;\n",
              "    border-bottom-color: var(--fill-color);\n",
              "    animation:\n",
              "      spin 1s steps(1) infinite;\n",
              "  }\n",
              "\n",
              "  @keyframes spin {\n",
              "    0% {\n",
              "      border-color: transparent;\n",
              "      border-bottom-color: var(--fill-color);\n",
              "      border-left-color: var(--fill-color);\n",
              "    }\n",
              "    20% {\n",
              "      border-color: transparent;\n",
              "      border-left-color: var(--fill-color);\n",
              "      border-top-color: var(--fill-color);\n",
              "    }\n",
              "    30% {\n",
              "      border-color: transparent;\n",
              "      border-left-color: var(--fill-color);\n",
              "      border-top-color: var(--fill-color);\n",
              "      border-right-color: var(--fill-color);\n",
              "    }\n",
              "    40% {\n",
              "      border-color: transparent;\n",
              "      border-right-color: var(--fill-color);\n",
              "      border-top-color: var(--fill-color);\n",
              "    }\n",
              "    60% {\n",
              "      border-color: transparent;\n",
              "      border-right-color: var(--fill-color);\n",
              "    }\n",
              "    80% {\n",
              "      border-color: transparent;\n",
              "      border-right-color: var(--fill-color);\n",
              "      border-bottom-color: var(--fill-color);\n",
              "    }\n",
              "    90% {\n",
              "      border-color: transparent;\n",
              "      border-bottom-color: var(--fill-color);\n",
              "    }\n",
              "  }\n",
              "</style>\n",
              "\n",
              "  <script>\n",
              "    async function quickchart(key) {\n",
              "      const quickchartButtonEl =\n",
              "        document.querySelector('#' + key + ' button');\n",
              "      quickchartButtonEl.disabled = true;  // To prevent multiple clicks.\n",
              "      quickchartButtonEl.classList.add('colab-df-spinner');\n",
              "      try {\n",
              "        const charts = await google.colab.kernel.invokeFunction(\n",
              "            'suggestCharts', [key], {});\n",
              "      } catch (error) {\n",
              "        console.error('Error during call to suggestCharts:', error);\n",
              "      }\n",
              "      quickchartButtonEl.classList.remove('colab-df-spinner');\n",
              "      quickchartButtonEl.classList.add('colab-df-quickchart-complete');\n",
              "    }\n",
              "    (() => {\n",
              "      let quickchartButtonEl =\n",
              "        document.querySelector('#df-cb73210b-86e2-49c1-a0db-7da4d0f0efde button');\n",
              "      quickchartButtonEl.style.display =\n",
              "        google.colab.kernel.accessAllowed ? 'block' : 'none';\n",
              "    })();\n",
              "  </script>\n",
              "</div>\n",
              "\n",
              "    </div>\n",
              "  </div>\n"
            ],
            "application/vnd.google.colaboratory.intrinsic+json": {
              "type": "dataframe",
              "variable_name": "w2v_train"
            }
          },
          "metadata": {},
          "execution_count": 23
        }
      ],
      "source": [
        "print('number of uniqe words',len(vector[1]))\n",
        "w2v_train=pd.DataFrame(vector)\n",
        "w2v_train['length_tweet']=df['wordcount']\n",
        "w2v_train['Sentiment']=df['Sentiment']\n",
        "w2v_train.head()"
      ]
    },
    {
      "cell_type": "markdown",
      "metadata": {
        "id": "eOGRwfdf87NO"
      },
      "source": [
        "**encoding labels**"
      ]
    },
    {
      "cell_type": "code",
      "execution_count": null,
      "metadata": {
        "id": "CWVf1ISK41Ut"
      },
      "outputs": [],
      "source": [
        "def transform_labels(label):\n",
        "    if label=='positive':\n",
        "        return 2\n",
        "    if label=='negative':\n",
        "       return 0\n",
        "    if label=='neutral':\n",
        "       return 1\n",
        "    return label\n",
        "\n",
        "df['Sentiment'] = df['Sentiment'].apply(lambda x:transform_labels(x))"
      ]
    },
    {
      "cell_type": "markdown",
      "metadata": {
        "id": "9TsG8ryJ0_qV"
      },
      "source": [
        "splitting"
      ]
    },
    {
      "cell_type": "code",
      "execution_count": null,
      "metadata": {
        "colab": {
          "base_uri": "https://localhost:8080/"
        },
        "id": "RbX8vJbfMCeQ",
        "outputId": "47aab1c5-0451-4336-a169-9cf1a71ac3b7"
      },
      "outputs": [
        {
          "output_type": "stream",
          "name": "stdout",
          "text": [
            "Train size: 11908\n",
            "Test size: 2977\n"
          ]
        }
      ],
      "source": [
        "from sklearn.model_selection import train_test_split, cross_val_score\n",
        "\n",
        "X= df['Clean_Tweet'].tolist()\n",
        "y =df['Sentiment'].tolist()\n",
        "x_train, x_test, y_train, y_test= train_test_split(X, y, test_size=0.2, random_state=42)\n",
        "\n",
        "print(\"Train size:\", len(x_train))\n",
        "\n",
        "\n",
        "print(\"Test size:\", len(x_test))"
      ]
    },
    {
      "cell_type": "markdown",
      "metadata": {
        "id": "UVbi6z812DAY"
      },
      "source": [
        "#**BOW (Bag Of Words) model**\n",
        "\n",
        "\n",
        "\n",
        "\n"
      ]
    },
    {
      "cell_type": "code",
      "execution_count": null,
      "metadata": {
        "id": "1HMJUCCN2Gd9"
      },
      "outputs": [],
      "source": [
        "from sklearn.feature_extraction.text import CountVectorizer\n",
        "from model import ModelPipeline\n",
        "from sklearn.metrics import classification_report,f1_score,precision_score,recall_score,accuracy_score"
      ]
    },
    {
      "cell_type": "markdown",
      "metadata": {
        "id": "gCG_HliY2Vk1"
      },
      "source": [
        "**BOWNB Model**\n",
        "\n",
        "BOW representation with Naive Bays model"
      ]
    },
    {
      "cell_type": "code",
      "execution_count": null,
      "metadata": {
        "id": "QR7dKl9x2ZLK"
      },
      "outputs": [],
      "source": [
        "from sklearn.naive_bayes import BernoulliNB, MultinomialNB\n",
        "\n",
        "model=ModelPipeline(estimator=BernoulliNB(),\n",
        "                    transformer=CountVectorizer(vocabulary=vocab_bow) )\n",
        "\n",
        "#Compatible\n",
        "model.fit(x_train, y_train)"
      ]
    },
    {
      "cell_type": "code",
      "execution_count": null,
      "metadata": {
        "colab": {
          "base_uri": "https://localhost:8080/"
        },
        "id": "Swb6bV-J2eDQ",
        "outputId": "43664191-0ec0-4add-bfeb-bebd6be512b1"
      },
      "outputs": [
        {
          "output_type": "stream",
          "name": "stdout",
          "text": [
            "              precision    recall  f1-score   support\n",
            "\n",
            "           0       0.69      0.09      0.16       469\n",
            "           1       0.65      0.73      0.69      1379\n",
            "           2       0.60      0.73      0.66      1129\n",
            "\n",
            "    accuracy                           0.63      2977\n",
            "   macro avg       0.65      0.52      0.50      2977\n",
            "weighted avg       0.64      0.63      0.59      2977\n",
            "\n"
          ]
        }
      ],
      "source": [
        "y_pred = model.predict(x_test)\n",
        "print(classification_report(y_test, y_pred,zero_division=0))"
      ]
    },
    {
      "cell_type": "code",
      "execution_count": null,
      "metadata": {
        "colab": {
          "base_uri": "https://localhost:8080/"
        },
        "id": "N2flOjqfRpTq",
        "outputId": "a790419f-5ce8-4867-8e2f-844e1502ce6f"
      },
      "outputs": [
        {
          "output_type": "stream",
          "name": "stdout",
          "text": [
            "Bernoulli Naive Bayes Cross-Validation Accuracy:  0.6159892509237488\n",
            " Cross-Validation F1score:  0.5807937096502872\n"
          ]
        }
      ],
      "source": [
        "# Cross-validation for Bernoulli Naive Bayes\n",
        "acc_val = cross_val_score(model, X, y, cv=5, scoring='accuracy')\n",
        "print(\"Bernoulli Naive Bayes Cross-Validation Accuracy: \", np.mean(acc_val))\n",
        "\n",
        "f1_val= cross_val_score(model, X, y, cv=5, scoring='f1_weighted')\n",
        "print(\" Cross-Validation F1score: \", np.mean(f1_val))"
      ]
    },
    {
      "cell_type": "code",
      "execution_count": null,
      "metadata": {
        "colab": {
          "base_uri": "https://localhost:8080/"
        },
        "id": "BuB9_B-Y2kcR",
        "outputId": "d19db66f-391e-4f17-d2bc-624f4a9c7dc7"
      },
      "outputs": [
        {
          "output_type": "stream",
          "name": "stdout",
          "text": [
            "Naive Bayes F1 Score ->  0.5925195726538994\n",
            "Naive Bayes Precision ->  0.637004194809937\n",
            "Naive Bayes Recall ->  0.6274773261672825\n",
            "Naive Bayes Accuracy ->  0.6274773261672825\n"
          ]
        }
      ],
      "source": [
        "f1 = f1_score(y_test, y_pred, average='weighted')\n",
        "print(\"Naive Bayes F1 Score -> \", f1)\n",
        "# Calculate precision, recall, and accuracy\n",
        "precision = precision_score(y_test, y_pred, average='weighted')\n",
        "recall = recall_score(y_test, y_pred, average='weighted')\n",
        "accuracy = accuracy_score(y_test, y_pred)\n",
        "\n",
        "# Print precision, recall, and accuracy\n",
        "print(\"Naive Bayes Precision -> \", precision)\n",
        "print(\"Naive Bayes Recall -> \", recall)\n",
        "print(\"Naive Bayes Accuracy -> \", accuracy)"
      ]
    },
    {
      "cell_type": "code",
      "execution_count": null,
      "metadata": {
        "id": "Ef_tsejF2oVd"
      },
      "outputs": [],
      "source": [
        "model1= ModelPipeline(estimator=MultinomialNB(),\n",
        "                    transformer=CountVectorizer(vocabulary=vocab_bow) )\n",
        "\n",
        "model1.fit(x_train, y_train)"
      ]
    },
    {
      "cell_type": "code",
      "execution_count": null,
      "metadata": {
        "colab": {
          "base_uri": "https://localhost:8080/"
        },
        "id": "uYBOe3d22s2v",
        "outputId": "ed52f16b-ee63-4a86-e411-a78fa9556029"
      },
      "outputs": [
        {
          "output_type": "stream",
          "name": "stdout",
          "text": [
            "              precision    recall  f1-score   support\n",
            "\n",
            "           0       0.58      0.29      0.39       469\n",
            "           1       0.68      0.68      0.68      1379\n",
            "           2       0.61      0.73      0.66      1129\n",
            "\n",
            "    accuracy                           0.64      2977\n",
            "   macro avg       0.62      0.57      0.58      2977\n",
            "weighted avg       0.64      0.64      0.63      2977\n",
            "\n"
          ]
        }
      ],
      "source": [
        "\n",
        "y_pred = model1.predict(x_test)\n",
        "print(classification_report(y_test, y_pred))"
      ]
    },
    {
      "cell_type": "code",
      "execution_count": null,
      "metadata": {
        "colab": {
          "base_uri": "https://localhost:8080/"
        },
        "id": "3Y-QA9-3TQJG",
        "outputId": "88b98473-a2c4-4c50-81a2-105ced97edb7"
      },
      "outputs": [
        {
          "name": "stdout",
          "output_type": "stream",
          "text": [
            "MultinomiaNB Cross-Validation Accuracy:  0.6249916022841788\n",
            " Cross-Validation F1score:  0.6159156070089779\n"
          ]
        }
      ],
      "source": [
        "# Cross-validation for MultinomiaNB Naive Bayes\n",
        "bernoulli_cv_results = cross_val_score(model1, X, y, cv=5, scoring='accuracy')\n",
        "print(\"MultinomiaNB Cross-Validation Accuracy: \", np.mean(bernoulli_cv_results))\n",
        "f1_val= cross_val_score(model1, X, y, cv=5, scoring='f1_weighted')\n",
        "print(\" Cross-Validation F1score: \", np.mean(f1_val))"
      ]
    },
    {
      "cell_type": "code",
      "execution_count": null,
      "metadata": {
        "colab": {
          "base_uri": "https://localhost:8080/"
        },
        "id": "s0pCLbrk2vyx",
        "outputId": "a5cea516-ab38-4917-d7dc-bbab714a083f"
      },
      "outputs": [
        {
          "output_type": "stream",
          "name": "stdout",
          "text": [
            "Naive Bayes F1 Score ->  0.6267055141497488\n",
            "Naive Bayes Precision ->  0.6356671183203565\n",
            "Naive Bayes Recall ->  0.6375545851528385\n",
            "Naive Bayes Accuracy ->  0.6375545851528385\n"
          ]
        }
      ],
      "source": [
        "f1 = f1_score(y_test, y_pred, average='weighted')\n",
        "print(\"Naive Bayes F1 Score -> \", f1)\n",
        "# Calculate precision, recall, and accuracy\n",
        "precision = precision_score(y_test, y_pred, average='weighted')\n",
        "recall = recall_score(y_test, y_pred, average='weighted')\n",
        "accuracy = accuracy_score(y_test, y_pred)\n",
        "\n",
        "# Print precision, recall, and accuracy\n",
        "print(\"Naive Bayes Precision -> \", precision)\n",
        "print(\"Naive Bayes Recall -> \", recall)\n",
        "print(\"Naive Bayes Accuracy -> \", accuracy)"
      ]
    },
    {
      "cell_type": "markdown",
      "metadata": {
        "id": "g9rr7p3720_G"
      },
      "source": [
        "**BOWLR Model**\n",
        "\n",
        "BOW representation with LogisticRegression model"
      ]
    },
    {
      "cell_type": "code",
      "execution_count": null,
      "metadata": {
        "id": "GY9qYuVZ21wk"
      },
      "outputs": [],
      "source": [
        "from sklearn.linear_model import LogisticRegression\n",
        "\n",
        "model2=ModelPipeline(estimator=LogisticRegression(C=0.1, max_iter=200),\n",
        "                    transformer=CountVectorizer(vocabulary=vocab_bow) )\n",
        "\n",
        "model2.fit(x_train, y_train)"
      ]
    },
    {
      "cell_type": "code",
      "execution_count": null,
      "metadata": {
        "colab": {
          "base_uri": "https://localhost:8080/"
        },
        "id": "V5OIU8q-28Bf",
        "outputId": "d9042a5c-9839-4b09-a2e0-9b649d55a079"
      },
      "outputs": [
        {
          "output_type": "stream",
          "name": "stdout",
          "text": [
            "              precision    recall  f1-score   support\n",
            "\n",
            "           0       0.63      0.32      0.42       469\n",
            "           1       0.66      0.84      0.74      1379\n",
            "           2       0.73      0.64      0.68      1129\n",
            "\n",
            "    accuracy                           0.68      2977\n",
            "   macro avg       0.68      0.60      0.62      2977\n",
            "weighted avg       0.68      0.68      0.67      2977\n",
            "\n"
          ]
        }
      ],
      "source": [
        "y_pred = model2.predict(x_test)\n",
        "print(classification_report(y_test, y_pred))"
      ]
    },
    {
      "cell_type": "code",
      "execution_count": null,
      "metadata": {
        "colab": {
          "base_uri": "https://localhost:8080/"
        },
        "id": "ggiiJwMuTbYh",
        "outputId": "4537e7e5-2254-4ded-cff8-4fa6646b6f32"
      },
      "outputs": [
        {
          "output_type": "stream",
          "name": "stdout",
          "text": [
            "LogisticRegression Cross-Validation Accuracy:  0.6712798118911655\n",
            " Cross-Validation F1score:  0.655854934248332\n"
          ]
        }
      ],
      "source": [
        "# Cross-validation for MultinomiaNB Naive Bayes\n",
        "bernoulli_cv_results = cross_val_score(model2, X, y, cv=5, scoring='accuracy')\n",
        "print(\"LogisticRegression Cross-Validation Accuracy: \", np.mean(bernoulli_cv_results))\n",
        "f1_val= cross_val_score(model2, X, y, cv=5, scoring='f1_weighted')\n",
        "print(\" Cross-Validation F1score: \", np.mean(f1_val))"
      ]
    },
    {
      "cell_type": "code",
      "execution_count": null,
      "metadata": {
        "colab": {
          "base_uri": "https://localhost:8080/"
        },
        "id": "aPNjmWrP2-04",
        "outputId": "9265022e-1d45-4c8d-a42a-cf7da0c97508"
      },
      "outputs": [
        {
          "output_type": "stream",
          "name": "stdout",
          "text": [
            "LogisticRegression F1 Score ->  0.6690401776877405\n",
            "LogisticRegression Precision ->  0.683674071526631\n",
            "LogisticRegression Recall ->  0.6829022505878402\n",
            "LogisticRegression Accuracy ->  0.6829022505878402\n"
          ]
        }
      ],
      "source": [
        "f1 = f1_score(y_test, y_pred, average='weighted')\n",
        "print(\"LogisticRegression F1 Score -> \", f1)\n",
        "\n",
        "# Calculate precision, recall, and accuracy\n",
        "precision = precision_score(y_test, y_pred, average='weighted')\n",
        "recall = recall_score(y_test, y_pred, average='weighted')\n",
        "accuracy = accuracy_score(y_test, y_pred)\n",
        "\n",
        "# Print precision, recall, and accuracy\n",
        "print(\"LogisticRegression Precision -> \", precision)\n",
        "print(\"LogisticRegression Recall -> \", recall)\n",
        "print(\"LogisticRegression Accuracy -> \", accuracy)"
      ]
    },
    {
      "cell_type": "markdown",
      "metadata": {
        "id": "W9eDJrkN3Cah"
      },
      "source": [
        "**BOWLSVM Model**\n",
        "\n",
        "BOW representation with Linear SVM model"
      ]
    },
    {
      "cell_type": "code",
      "execution_count": null,
      "metadata": {
        "id": "LenP3fRF3DIG"
      },
      "outputs": [],
      "source": [
        "from sklearn.svm import LinearSVC\n",
        "\n",
        "model3=ModelPipeline(estimator=LinearSVC(C=1,max_iter=1000,dual=False),\n",
        "                    transformer=CountVectorizer(vocabulary=vocab_bow ,min_df=2,ngram_range=(1,4)))\n",
        "\n",
        "#A boolean parameter that decides the algorithm to solve the dual or primal optimization problem\n",
        "#min_df=2: The minimum document frequency. Terms that appear in fewer than 2 documents are ignored.\n",
        "#ngram_range=(1, 4):means that the text data will be tokenized into unigrams (1-gram), bigrams (2-grams), trigrams (3-grams), and four-grams (4-grams)\n",
        "model3.fit(x_train, y_train)"
      ]
    },
    {
      "cell_type": "code",
      "execution_count": null,
      "metadata": {
        "colab": {
          "base_uri": "https://localhost:8080/"
        },
        "id": "viASp6p63FWX",
        "outputId": "098fb0e8-df37-428b-af21-e365253ce904"
      },
      "outputs": [
        {
          "output_type": "stream",
          "name": "stdout",
          "text": [
            "              precision    recall  f1-score   support\n",
            "\n",
            "           0       0.51      0.43      0.47       469\n",
            "           1       0.66      0.69      0.67      1379\n",
            "           2       0.64      0.64      0.64      1129\n",
            "\n",
            "    accuracy                           0.63      2977\n",
            "   macro avg       0.60      0.59      0.59      2977\n",
            "weighted avg       0.63      0.63      0.63      2977\n",
            "\n"
          ]
        }
      ],
      "source": [
        "y_pred = model3.predict(x_test)\n",
        "print(classification_report(y_test, y_pred))"
      ]
    },
    {
      "cell_type": "code",
      "execution_count": null,
      "metadata": {
        "colab": {
          "base_uri": "https://localhost:8080/"
        },
        "id": "IuEKie2rTqYA",
        "outputId": "667ff0e2-5359-42b0-cf12-318ae24f772a"
      },
      "outputs": [
        {
          "output_type": "stream",
          "name": "stdout",
          "text": [
            "LinearSVC Cross-Validation Accuracy:  0.6336580450117568\n",
            " Cross-Validation F1score:  0.6319654994434333\n"
          ]
        }
      ],
      "source": [
        "# Cross-validation for MultinomiaNB Naive Bayes\n",
        "bernoulli_cv_results = cross_val_score(model3, X, y, cv=5, scoring='accuracy')\n",
        "print(\"LinearSVC Cross-Validation Accuracy: \", np.mean(bernoulli_cv_results))\n",
        "f1_val= cross_val_score(model3, X, y, cv=5, scoring='f1_weighted')\n",
        "print(\" Cross-Validation F1score: \", np.mean(f1_val))"
      ]
    },
    {
      "cell_type": "code",
      "execution_count": null,
      "metadata": {
        "colab": {
          "base_uri": "https://localhost:8080/"
        },
        "id": "va2TsEp_3K4e",
        "outputId": "f4a7204c-c295-402f-9a76-1835fec0ae93"
      },
      "outputs": [
        {
          "output_type": "stream",
          "name": "stdout",
          "text": [
            "LinearSVC F1 Score ->  0.6277740519700539\n",
            "LinearSVC Precision ->  0.6266291181418521\n",
            "LinearSVC Recall ->  0.6301645952300974\n",
            "LinearSVC Accuracy ->  0.6301645952300974\n"
          ]
        }
      ],
      "source": [
        "f1 = f1_score(y_test, y_pred, average='weighted')\n",
        "print(\"LinearSVC F1 Score -> \", f1)\n",
        "\n",
        "# Calculate precision, recall, and accuracy\n",
        "precision = precision_score(y_test, y_pred, average='weighted')\n",
        "recall = recall_score(y_test, y_pred, average='weighted')\n",
        "accuracy = accuracy_score(y_test, y_pred)\n",
        "\n",
        "# Print precision, recall, and accuracy\n",
        "print(\"LinearSVC Precision -> \", precision)\n",
        "print(\"LinearSVC Recall -> \", recall)\n",
        "print(\"LinearSVC Accuracy -> \", accuracy)"
      ]
    },
    {
      "cell_type": "markdown",
      "metadata": {
        "id": "EJCK1m613N-W"
      },
      "source": [
        "**BOWRF Model**\n",
        "\n",
        "BOW representation with RandomForest model"
      ]
    },
    {
      "cell_type": "code",
      "execution_count": null,
      "metadata": {
        "id": "ZjjQ-obz3OnT"
      },
      "outputs": [],
      "source": [
        "from sklearn.ensemble import RandomForestClassifier\n",
        "\n",
        "model4=ModelPipeline(estimator=RandomForestClassifier(max_depth=100),\n",
        "                    transformer=CountVectorizer(vocabulary=vocab_bow) )\n",
        "\n",
        "model4.fit(x_train, y_train)"
      ]
    },
    {
      "cell_type": "code",
      "execution_count": null,
      "metadata": {
        "colab": {
          "base_uri": "https://localhost:8080/"
        },
        "id": "Heqa4F4Y3V50",
        "outputId": "12c64708-c009-4b51-8961-33dec977b6c9"
      },
      "outputs": [
        {
          "output_type": "stream",
          "name": "stdout",
          "text": [
            "              precision    recall  f1-score   support\n",
            "\n",
            "           0       0.77      0.17      0.28       469\n",
            "           1       0.63      0.90      0.74      1379\n",
            "           2       0.76      0.60      0.67      1129\n",
            "\n",
            "    accuracy                           0.67      2977\n",
            "   macro avg       0.72      0.56      0.56      2977\n",
            "weighted avg       0.70      0.67      0.64      2977\n",
            "\n"
          ]
        }
      ],
      "source": [
        "y_pred = model4.predict(x_test)\n",
        "print(classification_report(y_test, y_pred))"
      ]
    },
    {
      "cell_type": "code",
      "execution_count": null,
      "metadata": {
        "colab": {
          "base_uri": "https://localhost:8080/"
        },
        "id": "nMRKBBQsT4EU",
        "outputId": "8afd3acc-fa7e-4c67-f079-1075bf2fbdce"
      },
      "outputs": [
        {
          "output_type": "stream",
          "name": "stdout",
          "text": [
            "RandomForestClassifier Cross-Validation Accuracy:  0.6625461874370172\n",
            " Cross-Validation F1score:  0.6259495612028676\n"
          ]
        }
      ],
      "source": [
        "# Cross-validation for MultinomiaNB Naive Bayes\n",
        "bernoulli_cv_results = cross_val_score(model4, X, y, cv=5, scoring='accuracy')\n",
        "print(\"RandomForestClassifier Cross-Validation Accuracy: \", np.mean(bernoulli_cv_results))\n",
        "f1_val= cross_val_score(model4, X, y, cv=5, scoring='f1_weighted')\n",
        "print(\" Cross-Validation F1score: \", np.mean(f1_val))"
      ]
    },
    {
      "cell_type": "code",
      "source": [],
      "metadata": {
        "id": "CQjbjPoD8Bfr"
      },
      "execution_count": null,
      "outputs": []
    },
    {
      "cell_type": "code",
      "execution_count": null,
      "metadata": {
        "colab": {
          "base_uri": "https://localhost:8080/"
        },
        "id": "gqyxfo7T3b-E",
        "outputId": "380f7b97-51e0-47d1-8cb7-c8c84f0189b7"
      },
      "outputs": [
        {
          "output_type": "stream",
          "name": "stdout",
          "text": [
            "RandomForest F1 Score ->  0.641869667568986\n",
            "RandomForest Precision ->  0.7011080647837089\n",
            "RandomForest Recall ->  0.6728249916022842\n",
            "RandomForest Accuracy ->  0.6728249916022842\n"
          ]
        }
      ],
      "source": [
        "f1 = f1_score(y_test, y_pred, average='weighted')\n",
        "print(\"RandomForest F1 Score -> \", f1)\n",
        "\n",
        "\n",
        "# Calculate precision, recall, and accuracy\n",
        "precision = precision_score(y_test, y_pred, average='weighted')\n",
        "recall = recall_score(y_test, y_pred, average='weighted')\n",
        "accuracy = accuracy_score(y_test, y_pred)\n",
        "\n",
        "# Print precision, recall, and accuracy\n",
        "print(\"RandomForest Precision -> \", precision)\n",
        "print(\"RandomForest Recall -> \", recall)\n",
        "print(\"RandomForest Accuracy -> \", accuracy)"
      ]
    },
    {
      "cell_type": "markdown",
      "metadata": {
        "id": "3nZ131QC3gAO"
      },
      "source": [
        "**BOWDT Model**\n",
        "\n",
        "BOW representation with DecisionTree model"
      ]
    },
    {
      "cell_type": "code",
      "execution_count": null,
      "metadata": {
        "id": "EvhlpwfE3gs7"
      },
      "outputs": [],
      "source": [
        "from sklearn.tree import DecisionTreeClassifier\n",
        "\n",
        "model5 = ModelPipeline(estimator=DecisionTreeClassifier(max_depth=100),\n",
        "                      transformer=CountVectorizer(vocabulary=vocab_bow, min_df=2,ngram_range=(1,4)))\n",
        "model5.fit(x_train, y_train)"
      ]
    },
    {
      "cell_type": "code",
      "execution_count": null,
      "metadata": {
        "colab": {
          "base_uri": "https://localhost:8080/"
        },
        "id": "1xEMoFSc3jo_",
        "outputId": "621f2ba4-95ad-4fb1-8a1d-ea58a1fd723d"
      },
      "outputs": [
        {
          "output_type": "stream",
          "name": "stdout",
          "text": [
            "              precision    recall  f1-score   support\n",
            "\n",
            "           0       0.50      0.31      0.38       469\n",
            "           1       0.65      0.80      0.72      1379\n",
            "           2       0.69      0.60      0.64      1129\n",
            "\n",
            "    accuracy                           0.65      2977\n",
            "   macro avg       0.61      0.57      0.58      2977\n",
            "weighted avg       0.64      0.65      0.63      2977\n",
            "\n"
          ]
        }
      ],
      "source": [
        "y_pred = model5.predict(x_test)\n",
        "print(classification_report(y_test, y_pred))"
      ]
    },
    {
      "cell_type": "code",
      "execution_count": null,
      "metadata": {
        "id": "41nQmXGaT_CT",
        "colab": {
          "base_uri": "https://localhost:8080/"
        },
        "outputId": "6c5302eb-61f8-42fb-a3ec-3c3664b5e2c3"
      },
      "outputs": [
        {
          "output_type": "stream",
          "name": "stdout",
          "text": [
            "DecisionTree Cross-Validation Accuracy:  0.6463553913335572\n",
            " Cross-Validation F1score:  0.6370330550709115\n"
          ]
        }
      ],
      "source": [
        "# Cross-validation for MultinomiaNB Naive Bayes\n",
        "bernoulli_cv_results = cross_val_score(model5, X, y, cv=5, scoring='accuracy')\n",
        "print(\"DecisionTree Cross-Validation Accuracy: \", np.mean(bernoulli_cv_results))\n",
        "f1_val= cross_val_score(model5, X, y, cv=5, scoring='f1_weighted')\n",
        "print(\" Cross-Validation F1score: \", np.mean(f1_val))"
      ]
    },
    {
      "cell_type": "code",
      "execution_count": null,
      "metadata": {
        "id": "LYTZCsUD3ltA",
        "colab": {
          "base_uri": "https://localhost:8080/"
        },
        "outputId": "c527c063-0f4a-4a46-9c13-6268c17dda41"
      },
      "outputs": [
        {
          "output_type": "stream",
          "name": "stdout",
          "text": [
            "DecisionTree F1 Score ->  0.6345732462599494\n",
            "DecisionTree Precision ->  0.6392737357944152\n",
            "DecisionTree Recall ->  0.6462882096069869\n",
            "DecisionTree Accuracy ->  0.6462882096069869\n"
          ]
        }
      ],
      "source": [
        "f1 = f1_score(y_test, y_pred, average='weighted')\n",
        "print(\"DecisionTree F1 Score -> \", f1)\n",
        "\n",
        "# Calculate precision, recall, and accuracy\n",
        "precision = precision_score(y_test, y_pred, average='weighted')\n",
        "recall = recall_score(y_test, y_pred, average='weighted')\n",
        "accuracy = accuracy_score(y_test, y_pred)\n",
        "\n",
        "# Print precision, recall, and accuracy\n",
        "print(\"DecisionTree Precision -> \", precision)\n",
        "print(\"DecisionTree Recall -> \", recall)\n",
        "print(\"DecisionTree Accuracy -> \", accuracy)"
      ]
    },
    {
      "cell_type": "markdown",
      "metadata": {
        "id": "K7ZUp-3F3vbZ"
      },
      "source": [
        "**BOWKNN Model**\n",
        "\n",
        "BOW representation with KNN model"
      ]
    },
    {
      "cell_type": "code",
      "execution_count": null,
      "metadata": {
        "id": "dAsBc-Ly3zDP"
      },
      "outputs": [],
      "source": [
        "n_neighbors_values = [3, 5, 7, 11]\n"
      ]
    },
    {
      "cell_type": "code",
      "execution_count": null,
      "metadata": {
        "id": "Lt2-Usmb31Kn",
        "colab": {
          "base_uri": "https://localhost:8080/"
        },
        "outputId": "d61acfcf-a3b2-42b5-8afd-77fb621e16c7"
      },
      "outputs": [
        {
          "output_type": "stream",
          "name": "stderr",
          "text": [
            " 25%|██▌       | 1/4 [00:22<01:07, 22.35s/it]"
          ]
        },
        {
          "output_type": "stream",
          "name": "stdout",
          "text": [
            "For k = 3\n",
            " KNN Cross-Validation Accuracy Mean: 0.4724539463870673\n",
            " Cross-Validation F1score:  0.45187515905846426\n",
            "Test Set Accuracy: 0.4699361773597581\n",
            "Test Set F1 Score: 0.4490203565233753\n"
          ]
        },
        {
          "output_type": "stream",
          "name": "stderr",
          "text": [
            "\r 50%|█████     | 2/4 [00:52<00:53, 26.82s/it]"
          ]
        },
        {
          "output_type": "stream",
          "name": "stdout",
          "text": [
            "For k = 5\n",
            " KNN Cross-Validation Accuracy Mean: 0.4926098052346258\n",
            " Cross-Validation F1score:  0.4297971437110255\n",
            "Test Set Accuracy: 0.5008397715821297\n",
            "Test Set F1 Score: 0.4435391290630903\n"
          ]
        },
        {
          "output_type": "stream",
          "name": "stderr",
          "text": [
            "\r 75%|███████▌  | 3/4 [01:09<00:22, 22.42s/it]"
          ]
        },
        {
          "output_type": "stream",
          "name": "stdout",
          "text": [
            "For k = 7\n",
            " KNN Cross-Validation Accuracy Mean: 0.5048704920108147\n",
            " Cross-Validation F1score:  0.4230733776403067\n",
            "Test Set Accuracy: 0.5005038629492778\n",
            "Test Set F1 Score: 0.4306641978224876\n"
          ]
        },
        {
          "output_type": "stream",
          "name": "stderr",
          "text": [
            "100%|██████████| 4/4 [01:27<00:00, 21.89s/it]"
          ]
        },
        {
          "output_type": "stream",
          "name": "stdout",
          "text": [
            "For k = 11\n",
            " KNN Cross-Validation Accuracy Mean: 0.5040308967120406\n",
            " Cross-Validation F1score:  0.4000588620769879\n",
            "Test Set Accuracy: 0.49815250251931475\n",
            "Test Set F1 Score: 0.40733110918790344\n"
          ]
        },
        {
          "output_type": "stream",
          "name": "stderr",
          "text": [
            "\n"
          ]
        }
      ],
      "source": [
        "from tqdm import tqdm\n",
        "from sklearn.model_selection import cross_val_score\n",
        "from sklearn.neighbors import KNeighborsClassifier\n",
        "\n",
        "\n",
        "accuracy = []\n",
        "f1_scores = []\n",
        "models = []\n",
        "for n_neighbors_value in tqdm(n_neighbors_values):\n",
        "    model = ModelPipeline(estimator=KNeighborsClassifier(n_neighbors=int(n_neighbors_value)),\n",
        "                          transformer=CountVectorizer(vocabulary=vocab_bow))\n",
        "\n",
        "\n",
        "\n",
        "    model.fit(x_train, y_train)\n",
        "    y_pred = model.predict(x_test)\n",
        "      # Perform cross-validation to evaluate the model's performance\n",
        "    cv_scores = cross_val_score(model, x_train, y_train, cv=5, scoring='accuracy')\n",
        "    acc_mean = cv_scores.mean()\n",
        "    f1_val= cross_val_score(model, X, y, cv=5, scoring='f1_weighted')\n",
        "    # Calculate accuracy on the test set\n",
        "    acc_test = accuracy_score(y_test, y_pred)\n",
        "    accuracy.append(acc_test)\n",
        "\n",
        "    # Calculate F1 score on the test set\n",
        "    f1_test = f1_score(y_test, y_pred, average='weighted')\n",
        "    f1_scores.append(f1_test)\n",
        "\n",
        "    print('For k =', n_neighbors_value)\n",
        "    print(' KNN Cross-Validation Accuracy Mean:', acc_mean)\n",
        "    print(\" Cross-Validation F1score: \", np.mean(f1_val))\n",
        "\n",
        "    print('Test Set Accuracy:', acc_test)\n",
        "    print('Test Set F1 Score:', f1_test)\n",
        "\n",
        "    models.append(model)"
      ]
    },
    {
      "cell_type": "markdown",
      "metadata": {
        "id": "Mx7vmf1dEF67"
      },
      "source": [
        "#**TF-IDF (Term Frequency-Inverse Document Frequency) model**\n",
        "\n",
        "Text Preprocessing Techniques"
      ]
    },
    {
      "cell_type": "code",
      "execution_count": null,
      "metadata": {
        "id": "0j95frwWMIFw"
      },
      "outputs": [],
      "source": [
        "from sklearn.feature_extraction.text import TfidfVectorizer\n",
        "from sklearn.metrics import classification_report,f1_score,precision_score,recall_score,accuracy_score"
      ]
    },
    {
      "cell_type": "markdown",
      "metadata": {
        "id": "ZNbMyOzbEOg9"
      },
      "source": [
        "**TFIDFNB Model**\n",
        "\n",
        "TF-IDF representation with Naive Bays model"
      ]
    },
    {
      "cell_type": "code",
      "execution_count": null,
      "metadata": {
        "id": "lnhqMH9oML_y"
      },
      "outputs": [],
      "source": [
        "from sklearn.naive_bayes import BernoulliNB, MultinomialNB\n",
        "\n",
        "model=ModelPipeline(estimator=BernoulliNB(),\n",
        "                    transformer=TfidfVectorizer(vocabulary=vocabs5) )\n",
        "\n",
        "\n",
        "model.fit(x_train, y_train)\n"
      ]
    },
    {
      "cell_type": "code",
      "execution_count": null,
      "metadata": {
        "colab": {
          "base_uri": "https://localhost:8080/"
        },
        "id": "B3qQWtW8MSQL",
        "outputId": "883de134-ee14-41ad-ff1d-3be58e7f9db3"
      },
      "outputs": [
        {
          "output_type": "stream",
          "name": "stdout",
          "text": [
            "              precision    recall  f1-score   support\n",
            "\n",
            "           0       0.55      0.49      0.52       469\n",
            "           1       0.71      0.69      0.70      1379\n",
            "           2       0.65      0.70      0.68      1129\n",
            "\n",
            "    accuracy                           0.66      2977\n",
            "   macro avg       0.64      0.63      0.63      2977\n",
            "weighted avg       0.66      0.66      0.66      2977\n",
            "\n",
            "BernoulliNB Cross-Validation Accuracy:  0.6427275780987571\n",
            " Cross-Validation F1score:  0.6441193097271558\n"
          ]
        }
      ],
      "source": [
        "y_pred = model.predict(x_test)\n",
        "print(classification_report(y_test, y_pred))\n",
        "# Cross-validation for MultinomiaNB Naive Bayes\n",
        "bernoulli_cv_results = cross_val_score(model, X, y, cv=5, scoring='accuracy')\n",
        "print(\"BernoulliNB Cross-Validation Accuracy: \", np.mean(bernoulli_cv_results))\n",
        "f1_val= cross_val_score(model, X, y, cv=5, scoring='f1_weighted')\n",
        "print(\" Cross-Validation F1score: \", np.mean(f1_val))"
      ]
    },
    {
      "cell_type": "code",
      "execution_count": null,
      "metadata": {
        "colab": {
          "base_uri": "https://localhost:8080/"
        },
        "id": "5QCisEQ7UiBh",
        "outputId": "28bca03b-b429-4180-9388-8d49ffe7a6dc"
      },
      "outputs": [
        {
          "output_type": "stream",
          "name": "stdout",
          "text": [
            "Naive Bayes Accuracy ->  0.6620759153510245\n",
            "Naive Bayes F1 Score ->  0.6609457076794126\n"
          ]
        }
      ],
      "source": [
        "\n",
        "accuracy = accuracy_score(y_test, y_pred)\n",
        "print(\"Naive Bayes Accuracy -> \", accuracy)\n",
        "f1 = f1_score(y_test,y_pred, average='weighted')\n",
        "print(\"Naive Bayes F1 Score -> \", f1)\n"
      ]
    },
    {
      "cell_type": "code",
      "execution_count": null,
      "metadata": {
        "id": "HoTlfkHRMcaj"
      },
      "outputs": [],
      "source": [
        "model1=ModelPipeline(estimator=MultinomialNB(),\n",
        "                    transformer=TfidfVectorizer(vocabulary=vocabs5) )\n",
        "\n",
        "model1.fit(x_train, y_train)"
      ]
    },
    {
      "cell_type": "code",
      "execution_count": null,
      "metadata": {
        "colab": {
          "base_uri": "https://localhost:8080/"
        },
        "id": "3hmcTOlF-3aG",
        "outputId": "952509d9-28bc-4d71-8c68-0d8e4a4473e1"
      },
      "outputs": [
        {
          "output_type": "stream",
          "name": "stdout",
          "text": [
            "              precision    recall  f1-score   support\n",
            "\n",
            "           0       0.73      0.18      0.29       469\n",
            "           1       0.66      0.79      0.72      1379\n",
            "           2       0.65      0.69      0.67      1129\n",
            "\n",
            "    accuracy                           0.66      2977\n",
            "   macro avg       0.68      0.55      0.56      2977\n",
            "weighted avg       0.67      0.66      0.63      2977\n",
            "\n"
          ]
        }
      ],
      "source": [
        "y_pred = model1.predict(x_test)\n",
        "print(classification_report(y_test, y_pred))"
      ]
    },
    {
      "cell_type": "code",
      "execution_count": null,
      "metadata": {
        "colab": {
          "base_uri": "https://localhost:8080/"
        },
        "id": "p5Fz5B8IUn2T",
        "outputId": "ba789563-58c9-4ce1-bb02-dd2e2a6cb033"
      },
      "outputs": [
        {
          "output_type": "stream",
          "name": "stdout",
          "text": [
            "MultinomialNB Cross-Validation Accuracy:  0.6398387638562312\n",
            " Cross-Validation F1score:  0.6153319576933169\n"
          ]
        }
      ],
      "source": [
        "# Cross-validation for MultinomiaNB Naive Bayes\n",
        "bernoulli_cv_results = cross_val_score(model1, X, y, cv=5, scoring='accuracy')\n",
        "print(\"MultinomialNB Cross-Validation Accuracy: \", np.mean(bernoulli_cv_results))\n",
        "f1_val= cross_val_score(model1, X, y, cv=5, scoring='f1_weighted')\n",
        "print(\" Cross-Validation F1score: \", np.mean(f1_val))"
      ]
    },
    {
      "cell_type": "code",
      "execution_count": null,
      "metadata": {
        "colab": {
          "base_uri": "https://localhost:8080/"
        },
        "id": "NwtYDAp0NJh1",
        "outputId": "1c435fe2-75c1-4a82-d23c-7f6a57035c67"
      },
      "outputs": [
        {
          "output_type": "stream",
          "name": "stdout",
          "text": [
            "LinearSVC F1 Score ->  0.6313916557177928\n",
            "LinearSVC Precision ->  0.6662654999384902\n",
            "LinearSVC Recall ->  0.6567013772253947\n",
            "LinearSVC Accuracy ->  0.6567013772253947\n"
          ]
        }
      ],
      "source": [
        "f1 = f1_score(y_test, y_pred, average='weighted')\n",
        "print(\"LinearSVC F1 Score -> \", f1)\n",
        "\n",
        "# Calculate precision, recall, and accuracy\n",
        "precision = precision_score(y_test, y_pred, average='weighted')\n",
        "recall = recall_score(y_test, y_pred, average='weighted')\n",
        "accuracy = accuracy_score(y_test, y_pred)\n",
        "\n",
        "# Print precision, recall, and accuracy\n",
        "print(\"LinearSVC Precision -> \", precision)\n",
        "print(\"LinearSVC Recall -> \", recall)\n",
        "print(\"LinearSVC Accuracy -> \", accuracy)"
      ]
    },
    {
      "cell_type": "markdown",
      "metadata": {
        "id": "lgTSFgByEY0x"
      },
      "source": [
        "**TFIDFLR Model**\n",
        "\n",
        "TF-IDF representation with LogisticRegression model"
      ]
    },
    {
      "cell_type": "code",
      "execution_count": null,
      "metadata": {
        "id": "L_6u6WOhNuH0"
      },
      "outputs": [],
      "source": [
        "from sklearn.linear_model import LogisticRegression\n",
        "\n",
        "model2=ModelPipeline(estimator=LogisticRegression(C=0.2, max_iter=200),\n",
        "                    transformer=TfidfVectorizer(vocabulary=vocabs5) )\n",
        "# max_iter: the maximum number of iterations for optimization\n",
        "# C\n",
        "model2.fit(x_train, y_train)"
      ]
    },
    {
      "cell_type": "code",
      "execution_count": null,
      "metadata": {
        "colab": {
          "base_uri": "https://localhost:8080/"
        },
        "id": "7eOH3JCJp26g",
        "outputId": "f0c5bc94-bf24-42bc-dbe9-ae29f138f9eb"
      },
      "outputs": [
        {
          "output_type": "stream",
          "name": "stdout",
          "text": [
            "              precision    recall  f1-score   support\n",
            "\n",
            "           0       0.70      0.15      0.24       469\n",
            "           1       0.63      0.88      0.74      1379\n",
            "           2       0.73      0.62      0.67      1129\n",
            "\n",
            "    accuracy                           0.67      2977\n",
            "   macro avg       0.69      0.55      0.55      2977\n",
            "weighted avg       0.68      0.67      0.63      2977\n",
            "\n"
          ]
        }
      ],
      "source": [
        "y_pred = model2.predict(x_test)\n",
        "print(classification_report(y_test, y_pred))\n"
      ]
    },
    {
      "cell_type": "code",
      "execution_count": null,
      "metadata": {
        "colab": {
          "base_uri": "https://localhost:8080/"
        },
        "id": "J-B5tBaKVFx4",
        "outputId": "6f287be8-381c-4783-aa0d-bf5a0e909d7a"
      },
      "outputs": [
        {
          "output_type": "stream",
          "name": "stdout",
          "text": [
            "LogisticRegression Cross-Validation Accuracy:  0.6483708431306685\n",
            " Cross-Validation F1score:  0.6133332793442424\n"
          ]
        }
      ],
      "source": [
        "# Cross-validation for MultinomiaNB Naive Bayes\n",
        "bernoulli_cv_results = cross_val_score(model2, X, y, cv=5, scoring='accuracy')\n",
        "print(\"LogisticRegression Cross-Validation Accuracy: \", np.mean(bernoulli_cv_results))\n",
        "f1_val= cross_val_score(model2, X, y, cv=5, scoring='f1_weighted')\n",
        "print(\" Cross-Validation F1score: \", np.mean(f1_val))"
      ]
    },
    {
      "cell_type": "code",
      "execution_count": null,
      "metadata": {
        "colab": {
          "base_uri": "https://localhost:8080/"
        },
        "id": "OijOKtLf_TWe",
        "outputId": "d5aa48b8-892e-4fe5-835f-d2b0c27bcb88"
      },
      "outputs": [
        {
          "output_type": "stream",
          "name": "stdout",
          "text": [
            "LogisticRegression F1 Score ->  0.6349006293172154\n",
            "LogisticRegression Precision ->  0.6819523558337137\n",
            "LogisticRegression Recall ->  0.6677863621095063\n",
            "LogisticRegression Accuracy ->  0.6677863621095063\n"
          ]
        }
      ],
      "source": [
        "f1 = f1_score(y_test, y_pred, average='weighted')\n",
        "print(\"LogisticRegression F1 Score -> \", f1)\n",
        "\n",
        "# Calculate precision, recall, and accuracy\n",
        "precision = precision_score(y_test, y_pred, average='weighted')\n",
        "recall = recall_score(y_test, y_pred, average='weighted')\n",
        "accuracy = accuracy_score(y_test, y_pred)\n",
        "\n",
        "# Print precision, recall, and accuracy\n",
        "print(\"LogisticRegression Precision -> \", precision)\n",
        "print(\"LogisticRegression Recall -> \", recall)\n",
        "print(\"LogisticRegression Accuracy -> \", accuracy)"
      ]
    },
    {
      "cell_type": "markdown",
      "metadata": {
        "id": "oyt-Z1cWEcCX"
      },
      "source": [
        "**TFIDFLSVM Model**\n",
        "\n",
        "TF-IDF representation with Linear SVM model"
      ]
    },
    {
      "cell_type": "code",
      "execution_count": null,
      "metadata": {
        "id": "KcXAMlJXOEul"
      },
      "outputs": [],
      "source": [
        "from sklearn.svm import LinearSVC\n",
        "\n",
        "model3=ModelPipeline(estimator=LinearSVC(C=1),\n",
        "                    transformer=TfidfVectorizer(vocabulary=vocabs5) )\n",
        "\n",
        "model3.fit(x_train, y_train)\n"
      ]
    },
    {
      "cell_type": "code",
      "execution_count": null,
      "metadata": {
        "colab": {
          "base_uri": "https://localhost:8080/"
        },
        "id": "698mEglL-iFT",
        "outputId": "683580e4-7854-418b-b3dc-406496eaff92"
      },
      "outputs": [
        {
          "output_type": "stream",
          "name": "stdout",
          "text": [
            "              precision    recall  f1-score   support\n",
            "\n",
            "           0       0.56      0.43      0.48       469\n",
            "           1       0.69      0.77      0.72      1379\n",
            "           2       0.70      0.67      0.69      1129\n",
            "\n",
            "    accuracy                           0.68      2977\n",
            "   macro avg       0.65      0.62      0.63      2977\n",
            "weighted avg       0.67      0.68      0.67      2977\n",
            "\n"
          ]
        }
      ],
      "source": [
        "y_pred = model3.predict(x_test)\n",
        "print(classification_report(y_test, y_pred))"
      ]
    },
    {
      "cell_type": "code",
      "execution_count": null,
      "metadata": {
        "colab": {
          "base_uri": "https://localhost:8080/"
        },
        "id": "1pHZiOLiVRs8",
        "outputId": "a4a43dbc-cf46-4d12-a829-f0c996ab0c95"
      },
      "outputs": [
        {
          "output_type": "stream",
          "name": "stdout",
          "text": [
            "LinearSVC Cross-Validation Accuracy:  0.6674504534766543\n",
            " Cross-Validation F1score:  0.663259231625348\n"
          ]
        }
      ],
      "source": [
        "# Cross-validation for MultinomiaNB Naive Bayes\n",
        "bernoulli_cv_results = cross_val_score(model3, X, y, cv=5, scoring='accuracy')\n",
        "print(\"LinearSVC Cross-Validation Accuracy: \", np.mean(bernoulli_cv_results))\n",
        "f1_val= cross_val_score(model3, X, y, cv=5, scoring='f1_weighted')\n",
        "print(\" Cross-Validation F1score: \", np.mean(f1_val))"
      ]
    },
    {
      "cell_type": "code",
      "execution_count": null,
      "metadata": {
        "colab": {
          "base_uri": "https://localhost:8080/"
        },
        "id": "tqA4mfGT-m-S",
        "outputId": "8bf3047f-3db7-4e16-bbe5-c2a778dff2d5"
      },
      "outputs": [
        {
          "output_type": "stream",
          "name": "stdout",
          "text": [
            "LinearSVC F1 Score ->  0.6719841382130086\n",
            "LinearSVC Precision ->  0.6723963889217702\n",
            "LinearSVC Recall ->  0.6768558951965066\n",
            "LinearSVC Accuracy ->  0.6768558951965066\n"
          ]
        }
      ],
      "source": [
        "f1 = f1_score(y_test, y_pred, average='weighted')\n",
        "print(\"LinearSVC F1 Score -> \", f1)\n",
        "\n",
        "# Calculate precision, recall, and accuracy\n",
        "precision = precision_score(y_test, y_pred, average='weighted')\n",
        "recall = recall_score(y_test, y_pred, average='weighted')\n",
        "accuracy = accuracy_score(y_test, y_pred)\n",
        "\n",
        "# Print precision, recall, and accuracy\n",
        "print(\"LinearSVC Precision -> \", precision)\n",
        "print(\"LinearSVC Recall -> \", recall)\n",
        "print(\"LinearSVC Accuracy -> \", accuracy)"
      ]
    },
    {
      "cell_type": "markdown",
      "metadata": {
        "id": "Z43DVh_JEiOm"
      },
      "source": [
        "**TFIDFRF Model**\n",
        "\n",
        "TF-IDF representation with RandomForest model"
      ]
    },
    {
      "cell_type": "code",
      "execution_count": null,
      "metadata": {
        "id": "VJvsWBUTOaAR"
      },
      "outputs": [],
      "source": [
        "from sklearn.ensemble import RandomForestClassifier\n",
        "\n",
        "model4=ModelPipeline(estimator=RandomForestClassifier(n_estimators=100, max_depth=100, min_samples_split=2),\n",
        "                    transformer=TfidfVectorizer(vocabulary=vocabs5) )\n",
        "#n_estimators=100: Specifies 100 decision trees in the ensemble.\n",
        "#min_samples_split=2: Requires a minimum of 2 samples to split a node.\n",
        "\n",
        "model4.fit(x_train, y_train)"
      ]
    },
    {
      "cell_type": "code",
      "execution_count": null,
      "metadata": {
        "colab": {
          "base_uri": "https://localhost:8080/"
        },
        "id": "glLeAPUMB6m8",
        "outputId": "a8466359-0c03-456d-a2c8-c62bf08ef701"
      },
      "outputs": [
        {
          "output_type": "stream",
          "name": "stdout",
          "text": [
            "              precision    recall  f1-score   support\n",
            "\n",
            "           0       0.62      0.27      0.38       469\n",
            "           1       0.64      0.87      0.74      1379\n",
            "           2       0.75      0.61      0.67      1129\n",
            "\n",
            "    accuracy                           0.67      2977\n",
            "   macro avg       0.67      0.58      0.59      2977\n",
            "weighted avg       0.68      0.67      0.66      2977\n",
            "\n"
          ]
        }
      ],
      "source": [
        "y_pred = model4.predict(x_test)\n",
        "print(classification_report(y_test, y_pred))"
      ]
    },
    {
      "cell_type": "code",
      "execution_count": null,
      "metadata": {
        "colab": {
          "base_uri": "https://localhost:8080/"
        },
        "id": "WpXnRGDVVXs3",
        "outputId": "a04e9cae-28a8-45a5-d183-8e7ef1bd09a3"
      },
      "outputs": [
        {
          "output_type": "stream",
          "name": "stdout",
          "text": [
            "RandomForestClassifier Cross-Validation Accuracy:  0.6632180047027209\n",
            " Cross-Validation F1score:  0.645121676861371\n"
          ]
        }
      ],
      "source": [
        "# Cross-validation for MultinomiaNB Naive Bayes\n",
        "bernoulli_cv_results = cross_val_score(model4, X, y, cv=5, scoring='accuracy')\n",
        "print(\"RandomForestClassifier Cross-Validation Accuracy: \", np.mean(bernoulli_cv_results))\n",
        "f1_val= cross_val_score(model4, X, y, cv=5, scoring='f1_weighted')\n",
        "print(\" Cross-Validation F1score: \", np.mean(f1_val))"
      ]
    },
    {
      "cell_type": "code",
      "execution_count": null,
      "metadata": {
        "colab": {
          "base_uri": "https://localhost:8080/"
        },
        "id": "4OsQCypDCCRa",
        "outputId": "a8c0665c-bba9-4e6c-cc23-985824671f86"
      },
      "outputs": [
        {
          "output_type": "stream",
          "name": "stdout",
          "text": [
            "RandomForest F1 Score ->  0.655536159555289\n",
            "RandomForest Precision ->  0.6807963679064482\n",
            "RandomForest Recall ->  0.6741686261336917\n",
            "RandomForest Accuracy ->  0.6741686261336917\n"
          ]
        }
      ],
      "source": [
        "f1 = f1_score(y_test, y_pred, average='weighted')\n",
        "print(\"RandomForest F1 Score -> \", f1)\n",
        "\n",
        "\n",
        "# Calculate precision, recall, and accuracy\n",
        "precision = precision_score(y_test, y_pred, average='weighted')\n",
        "recall = recall_score(y_test, y_pred, average='weighted')\n",
        "accuracy = accuracy_score(y_test, y_pred)\n",
        "\n",
        "# Print precision, recall, and accuracy\n",
        "print(\"RandomForest Precision -> \", precision)\n",
        "print(\"RandomForest Recall -> \", recall)\n",
        "print(\"RandomForest Accuracy -> \", accuracy)"
      ]
    },
    {
      "cell_type": "markdown",
      "metadata": {
        "id": "yiPj2SBZEm7E"
      },
      "source": [
        "**TFIDFDT Model**\n",
        "\n",
        "TF-IDF representation with DecisionTree model"
      ]
    },
    {
      "cell_type": "code",
      "execution_count": null,
      "metadata": {
        "id": "9olE1i8xOxc0"
      },
      "outputs": [],
      "source": [
        "from sklearn.tree import DecisionTreeClassifier\n",
        "\n",
        "model5 = ModelPipeline(estimator=DecisionTreeClassifier( min_samples_split=2, criterion='gini'),\n",
        "                      transformer=TfidfVectorizer(vocabulary=vocabs5))\n",
        "\n",
        "#criterion='gini': Uses Gini impurity to measure the quality of splits.\n",
        "model5.fit(x_train, y_train)"
      ]
    },
    {
      "cell_type": "code",
      "execution_count": null,
      "metadata": {
        "colab": {
          "base_uri": "https://localhost:8080/"
        },
        "id": "eF1-nkIiCXXN",
        "outputId": "87064be3-ac84-440f-db1f-ae414778a7b3"
      },
      "outputs": [
        {
          "output_type": "stream",
          "name": "stdout",
          "text": [
            "              precision    recall  f1-score   support\n",
            "\n",
            "           0       0.37      0.37      0.37       469\n",
            "           1       0.64      0.63      0.63      1379\n",
            "           2       0.61      0.62      0.61      1129\n",
            "\n",
            "    accuracy                           0.58      2977\n",
            "   macro avg       0.54      0.54      0.54      2977\n",
            "weighted avg       0.58      0.58      0.58      2977\n",
            "\n"
          ]
        }
      ],
      "source": [
        "y_pred = model5.predict(x_test)\n",
        "print(classification_report(y_test, y_pred))"
      ]
    },
    {
      "cell_type": "code",
      "execution_count": null,
      "metadata": {
        "colab": {
          "base_uri": "https://localhost:8080/"
        },
        "id": "r19Qn1CXVgqv",
        "outputId": "5e10345e-e830-4cb4-8e85-a2e7a91b50fd"
      },
      "outputs": [
        {
          "output_type": "stream",
          "name": "stdout",
          "text": [
            "DecisionTreeClassifier Cross-Validation Accuracy:  0.6047027208599262\n",
            " Cross-Validation F1score:  0.6001585634846637\n"
          ]
        }
      ],
      "source": [
        "# Cross-validation for MultinomiaNB Naive Bayes\n",
        "bernoulli_cv_results = cross_val_score(model5, X, y, cv=5, scoring='accuracy')\n",
        "print(\"DecisionTreeClassifier Cross-Validation Accuracy: \", np.mean(bernoulli_cv_results))\n",
        "f1_val= cross_val_score(model5, X, y, cv=5, scoring='f1_weighted')\n",
        "print(\" Cross-Validation F1score: \", np.mean(f1_val))"
      ]
    },
    {
      "cell_type": "code",
      "execution_count": null,
      "metadata": {
        "colab": {
          "base_uri": "https://localhost:8080/"
        },
        "id": "JFugomGDCaS9",
        "outputId": "9c9710f9-03c2-42cc-f5d9-13297cb51e26"
      },
      "outputs": [
        {
          "output_type": "stream",
          "name": "stdout",
          "text": [
            "DecisionTree F1 Score ->  0.5845598909377351\n",
            "DecisionTree Precision ->  0.5847200746019471\n",
            "DecisionTree Recall ->  0.5844810211622439\n",
            "DecisionTree Accuracy ->  0.5844810211622439\n"
          ]
        }
      ],
      "source": [
        "f1 = f1_score(y_test, y_pred, average='weighted')\n",
        "print(\"DecisionTree F1 Score -> \", f1)\n",
        "\n",
        "# Calculate precision, recall, and accuracy\n",
        "precision = precision_score(y_test, y_pred, average='weighted')\n",
        "recall = recall_score(y_test, y_pred, average='weighted')\n",
        "accuracy = accuracy_score(y_test, y_pred)\n",
        "\n",
        "# Print precision, recall, and accuracy\n",
        "print(\"DecisionTree Precision -> \", precision)\n",
        "print(\"DecisionTree Recall -> \", recall)\n",
        "print(\"DecisionTree Accuracy -> \", accuracy)"
      ]
    },
    {
      "cell_type": "markdown",
      "metadata": {
        "id": "RH4obesoCdr9"
      },
      "source": [
        "**TFIDFKNN Model**\n",
        "\n",
        "TFIDF representation with KNN model"
      ]
    },
    {
      "cell_type": "code",
      "execution_count": null,
      "metadata": {
        "colab": {
          "base_uri": "https://localhost:8080/"
        },
        "id": "HRnOA4OfCjrv",
        "outputId": "c5fd9ac1-82e8-4206-93af-bf36eb4fd891"
      },
      "outputs": [
        {
          "output_type": "stream",
          "name": "stderr",
          "text": [
            " 25%|██▌       | 1/4 [00:58<02:55, 58.39s/it]"
          ]
        },
        {
          "output_type": "stream",
          "name": "stdout",
          "text": [
            "For k = 3\n",
            "KNN Cross-Validation Accuracy Mean: 0.5037789722794965\n",
            " Cross-Validation F1score:  0.5000751706722729\n",
            "Test Set Accuracy: 0.5011756802149815\n",
            "Test Set F1 Score: 0.5021456643755277\n"
          ]
        },
        {
          "output_type": "stream",
          "name": "stderr",
          "text": [
            "\r 50%|█████     | 2/4 [01:57<01:57, 58.59s/it]"
          ]
        },
        {
          "output_type": "stream",
          "name": "stdout",
          "text": [
            "For k = 5\n",
            "KNN Cross-Validation Accuracy Mean: 0.5314078252439989\n",
            " Cross-Validation F1score:  0.5172613808748985\n",
            "Test Set Accuracy: 0.5340947262344642\n",
            "Test Set F1 Score: 0.5253377126300243\n"
          ]
        },
        {
          "output_type": "stream",
          "name": "stderr",
          "text": [
            "\r 75%|███████▌  | 3/4 [02:55<00:58, 58.38s/it]"
          ]
        },
        {
          "output_type": "stream",
          "name": "stdout",
          "text": [
            "For k = 7\n",
            "KNN Cross-Validation Accuracy Mean: 0.5423245388996503\n",
            " Cross-Validation F1score:  0.5289191516102235\n",
            "Test Set Accuracy: 0.5475310715485388\n",
            "Test Set F1 Score: 0.5349621507905058\n"
          ]
        },
        {
          "output_type": "stream",
          "name": "stderr",
          "text": [
            "100%|██████████| 4/4 [03:53<00:00, 58.35s/it]"
          ]
        },
        {
          "output_type": "stream",
          "name": "stdout",
          "text": [
            "For k = 11\n",
            "KNN Cross-Validation Accuracy Mean: 0.5555097714166624\n",
            " Cross-Validation F1score:  0.5351509674125371\n",
            "Test Set Accuracy: 0.5636546859254283\n",
            "Test Set F1 Score: 0.5467763709300925\n"
          ]
        },
        {
          "output_type": "stream",
          "name": "stderr",
          "text": [
            "\n"
          ]
        }
      ],
      "source": [
        "from tqdm import tqdm\n",
        "from sklearn.model_selection import cross_val_score\n",
        "from sklearn.neighbors import KNeighborsClassifier\n",
        "n_neighbors_values = [3, 5, 7, 11]\n",
        "\n",
        "\n",
        "accuracy = []\n",
        "f1_scores = []\n",
        "models = []\n",
        "for n_neighbors_value in tqdm(n_neighbors_values):\n",
        "    model = ModelPipeline(estimator=KNeighborsClassifier(n_neighbors=int(n_neighbors_value)),\n",
        "                          transformer=TfidfVectorizer(vocabulary=vocabs5))\n",
        "\n",
        "\n",
        "\n",
        "    model.fit(x_train, y_train)\n",
        "    y_pred = model.predict(x_test)\n",
        "    # Perform cross-validation to evaluate the model's performance\n",
        "    cv_scores = cross_val_score(model, x_train, y_train, cv=5, scoring='accuracy')\n",
        "    acc_mean = cv_scores.mean()\n",
        "    f1_val= cross_val_score(model, X, y, cv=5, scoring='f1_weighted')\n",
        "\n",
        "\n",
        "    # Calculate accuracy on the test set\n",
        "    acc_test = accuracy_score(y_test, y_pred)\n",
        "    accuracy.append(acc_test)\n",
        "\n",
        "    # Calculate F1 score on the test set\n",
        "    f1_test = f1_score(y_test, y_pred, average='weighted')\n",
        "    f1_scores.append(f1_test)\n",
        "\n",
        "    print('For k =', n_neighbors_value)\n",
        "    print('KNN Cross-Validation Accuracy Mean:', acc_mean)\n",
        "    print(\" Cross-Validation F1score: \", np.mean(f1_val))\n",
        "    print('Test Set Accuracy:', acc_test)\n",
        "    print('Test Set F1 Score:', f1_test)\n",
        "\n",
        "    models.append(model)"
      ]
    },
    {
      "cell_type": "markdown",
      "metadata": {
        "id": "FcIErm4MvyIN"
      },
      "source": [
        "#**Word2Vec Model**"
      ]
    },
    {
      "cell_type": "markdown",
      "metadata": {
        "id": "U5UWej3Gv7qs"
      },
      "source": [
        "splitting"
      ]
    },
    {
      "cell_type": "code",
      "execution_count": null,
      "metadata": {
        "id": "aNlZqTwKuDnM"
      },
      "outputs": [],
      "source": [
        "\n",
        "\n",
        "X=w2v_train.iloc[:, :-1]\n",
        "y=w2v_train['Sentiment']\n",
        "X.columns = [str(col) for col in X.columns]\n",
        "x_train_w2v,x_test_w2v,y_train_w2v,y_test_w2v=train_test_split(X,y,test_size=0.2)\n"
      ]
    },
    {
      "cell_type": "markdown",
      "metadata": {
        "id": "35ybVhXljsuB"
      },
      "source": [
        "**Word2vec with Knn model**"
      ]
    },
    {
      "cell_type": "code",
      "execution_count": null,
      "metadata": {
        "colab": {
          "base_uri": "https://localhost:8080/"
        },
        "id": "mVn_V0I_Lls9",
        "outputId": "80b595e4-953c-4eef-bbf6-49f489bd3e4b"
      },
      "outputs": [
        {
          "output_type": "stream",
          "name": "stderr",
          "text": [
            "\r  0%|          | 0/4 [00:00<?, ?it/s]"
          ]
        },
        {
          "output_type": "stream",
          "name": "stdout",
          "text": [
            "KNN Cross-Validation Accuracy:  0.4473631172321128\n"
          ]
        },
        {
          "output_type": "stream",
          "name": "stderr",
          "text": [
            "\r 25%|██▌       | 1/4 [00:06<00:18,  6.11s/it]"
          ]
        },
        {
          "output_type": "stream",
          "name": "stdout",
          "text": [
            " Cross-Validation F1score:  0.4564274187017445\n",
            "For k = 3 Accuracy Score: 0.4672489082969432\n",
            "For k = 3 F1 Score: 0.47793144485170186\n",
            "KNN Cross-Validation Accuracy:  0.4807524353375882\n"
          ]
        },
        {
          "output_type": "stream",
          "name": "stderr",
          "text": [
            "\r 50%|█████     | 2/4 [00:13<00:14,  7.07s/it]"
          ]
        },
        {
          "output_type": "stream",
          "name": "stdout",
          "text": [
            " Cross-Validation F1score:  0.4794632374281152\n",
            "For k = 5 Accuracy Score: 0.4947934161907961\n",
            "For k = 5 F1 Score: 0.4950075641365877\n",
            "KNN Cross-Validation Accuracy:  0.49774941215989255\n"
          ]
        },
        {
          "output_type": "stream",
          "name": "stderr",
          "text": [
            "\r 75%|███████▌  | 3/4 [00:19<00:06,  6.59s/it]"
          ]
        },
        {
          "output_type": "stream",
          "name": "stdout",
          "text": [
            " Cross-Validation F1score:  0.49081533209597455\n",
            "For k = 7 Accuracy Score: 0.5226738327175008\n",
            "For k = 7 F1 Score: 0.5171861689790578\n",
            "KNN Cross-Validation Accuracy:  0.509170305676856\n"
          ]
        },
        {
          "output_type": "stream",
          "name": "stderr",
          "text": [
            "100%|██████████| 4/4 [00:27<00:00,  6.93s/it]"
          ]
        },
        {
          "output_type": "stream",
          "name": "stdout",
          "text": [
            " Cross-Validation F1score:  0.498151850409681\n",
            "For k = 11 Accuracy Score: 0.5189788377561303\n",
            "For k = 11 F1 Score: 0.5095398171824083\n"
          ]
        },
        {
          "output_type": "stream",
          "name": "stderr",
          "text": [
            "\n"
          ]
        }
      ],
      "source": [
        "#use word2vec\n",
        "from sklearn.metrics import accuracy_score,f1_score\n",
        "from sklearn.neighbors import KNeighborsClassifier\n",
        "# Convert column names to strings\n",
        "x_train_w2v = pd.DataFrame(x_train_w2v)\n",
        "x_train_w2v.columns = x_train_w2v.columns.astype(str)\n",
        "k = [3, 5,7, 11]\n",
        "accuracy_w2v = []\n",
        "f1_scores_w2v = []\n",
        "\n",
        "for i in tqdm(k):\n",
        "    model = KNeighborsClassifier(n_neighbors=i)\n",
        "    model.fit(x_train_w2v,y_train_w2v)\n",
        "\n",
        "    # Convert x_test_w2v to DataFrame and set column names to strings\n",
        "    x_test_w2v_df = pd.DataFrame(x_test_w2v)\n",
        "    x_test_w2v_df.columns = x_test_w2v_df.columns.astype(str)\n",
        "\n",
        "    y_pred = model.predict(x_test_w2v_df)\n",
        "    # Cross-validation for MultinomiaNB Naive Bayes\n",
        "    ACC = cross_val_score(model, X, y, cv=5, scoring='accuracy')\n",
        "    print(\"KNN Cross-Validation Accuracy: \", np.mean(ACC))\n",
        "    f1_val= cross_val_score(model, X, y, cv=5, scoring='f1_weighted')\n",
        "    print(\" Cross-Validation F1score: \", np.mean(f1_val))\n",
        "    # Calculate accuracy\n",
        "    acc = accuracy_score(y_test_w2v, y_pred)\n",
        "    print('For k =', i, 'Accuracy Score:', acc)\n",
        "    accuracy_w2v.append(acc)\n",
        "\n",
        "    # Calculate F1 score\n",
        "    f1 = f1_score(y_test_w2v, y_pred, average='weighted')\n",
        "    print('For k =', i, 'F1 Score:', f1)\n",
        "    f1_scores_w2v.append(f1)"
      ]
    },
    {
      "cell_type": "markdown",
      "metadata": {
        "id": "1dkaDJ_OQPDX"
      },
      "source": [
        "**word2vec with LogisticRegression**"
      ]
    },
    {
      "cell_type": "code",
      "execution_count": null,
      "metadata": {
        "colab": {
          "base_uri": "https://localhost:8080/"
        },
        "id": "I-qluwdENq-Y",
        "outputId": "89c6d234-1679-47a6-954d-282367b95da8"
      },
      "outputs": [
        {
          "output_type": "stream",
          "name": "stdout",
          "text": [
            "logistic regression  Cross-Validation Accuracy:  0.599664091367148\n",
            " Cross-Validation F1score:  0.5885164986020925\n",
            "Accuracy (Logistic Regression): 0.6177359758145784\n",
            "F1 Score ->  0.6054116244790626\n",
            "Classification Report (Logistic Regression):\n",
            "              precision    recall  f1-score   support\n",
            "\n",
            "    negative       0.50      0.28      0.36       456\n",
            "     neutral       0.62      0.76      0.69      1397\n",
            "    positive       0.63      0.58      0.60      1124\n",
            "\n",
            "    accuracy                           0.62      2977\n",
            "   macro avg       0.59      0.54      0.55      2977\n",
            "weighted avg       0.61      0.62      0.61      2977\n",
            "\n"
          ]
        }
      ],
      "source": [
        "from sklearn.linear_model import LogisticRegression\n",
        "from sklearn.preprocessing import StandardScaler\n",
        "\n",
        "# Define and fit the scaler to your training data\n",
        "\n",
        "scaler = StandardScaler(with_mean=False)\n",
        "scaler.fit(x_train_w2v)\n",
        "\n",
        "#StandardScaler: Standardizes features by removing the mean and scaling to unit variance.\n",
        "#with_mean=False: for sparse matrices, where centering the data (subtracting the mean) can lead to inefficient computations.\n",
        "# Create a ModelPipeline instance with logistic regression model\n",
        "model = ModelPipeline(transformer=scaler, estimator=LogisticRegression(C=0.2, max_iter=1000))\n",
        "\n",
        "# Fit and predict using logistic regression pipeline\n",
        "model.fit(x_train_w2v, y_train_w2v)\n",
        "y_pred_logreg = model.predict(x_test_w2v)\n",
        "\n",
        "# Cross-validation for MultinomiaNB Naive Bayes\n",
        "bernoulli_cv_results = cross_val_score(model, X, y, cv=5, scoring='accuracy')\n",
        "print(\"logistic regression  Cross-Validation Accuracy: \", np.mean(bernoulli_cv_results))\n",
        "f1_val= cross_val_score(model, X, y, cv=5, scoring='f1_weighted')\n",
        "print(\" Cross-Validation F1score: \", np.mean(f1_val))\n",
        "\n",
        "# Evaluate the model\n",
        "accuracy = accuracy_score(y_test_w2v, y_pred_logreg)\n",
        "print(\"Accuracy (Logistic Regression):\", accuracy)\n",
        "f1 = f1_score(y_test_w2v, y_pred_logreg, average='weighted')\n",
        "print(\"F1 Score -> \", f1)\n",
        "print(\"Classification Report (Logistic Regression):\")\n",
        "print(classification_report(y_test_w2v, y_pred_logreg))\n",
        "\n"
      ]
    },
    {
      "cell_type": "markdown",
      "metadata": {
        "id": "xZHUcWJ7R7gH"
      },
      "source": [
        "**word2vec with BernoulliNB**"
      ]
    },
    {
      "cell_type": "code",
      "execution_count": null,
      "metadata": {
        "colab": {
          "base_uri": "https://localhost:8080/"
        },
        "id": "088Hkc7fd-kf",
        "outputId": "dcd175f1-ccbb-4fc4-c3d9-b8fc07d64e36"
      },
      "outputs": [
        {
          "output_type": "stream",
          "name": "stdout",
          "text": [
            "BernoulliNB Cross-Validation Accuracy:  0.5200537453812564\n",
            " Cross-Validation F1score:  0.5237526791065377\n",
            "Accuracy (Bernoulli Naive Bayes): 0.5387974470943904\n",
            "F1 Score ->  0.5438669730524578\n",
            "Classification Report (Bernoulli Naive Bayes):\n",
            "              precision    recall  f1-score   support\n",
            "\n",
            "    negative       0.34      0.47      0.39       456\n",
            "     neutral       0.63      0.58      0.61      1397\n",
            "    positive       0.54      0.51      0.53      1124\n",
            "\n",
            "    accuracy                           0.54      2977\n",
            "   macro avg       0.50      0.52      0.51      2977\n",
            "weighted avg       0.55      0.54      0.54      2977\n",
            "\n"
          ]
        }
      ],
      "source": [
        "from sklearn.naive_bayes import BernoulliNB\n",
        "\n",
        "\n",
        "# Create a ModelPipeline instance with Bernoulli Naive Bayes model\n",
        "model = ModelPipeline(transformer=scaler, estimator=BernoulliNB())\n",
        "\n",
        "# Fit and predict using Bernoulli Naive Bayes pipeline\n",
        "model.fit(x_train_w2v, y_train_w2v)\n",
        "y_pred_bernoulli = model.predict(x_test_w2v)\n",
        "bernoulli_cv_results = cross_val_score(model, X, y, cv=5, scoring='accuracy')\n",
        "print(\"BernoulliNB Cross-Validation Accuracy: \", np.mean(bernoulli_cv_results))\n",
        "f1_val= cross_val_score(model, X, y, cv=5, scoring='f1_weighted')\n",
        "print(\" Cross-Validation F1score: \", np.mean(f1_val))\n",
        "# Evaluate the model\n",
        "accuracy = accuracy_score(y_test_w2v, y_pred_bernoulli)\n",
        "print(\"Accuracy (Bernoulli Naive Bayes):\", accuracy)\n",
        "f1 = f1_score(y_test_w2v, y_pred_bernoulli, average='weighted')\n",
        "print(\"F1 Score -> \", f1)\n",
        "print(\"Classification Report (Bernoulli Naive Bayes):\")\n",
        "print(classification_report(y_test_w2v, y_pred_bernoulli))"
      ]
    },
    {
      "cell_type": "markdown",
      "metadata": {
        "id": "zRO8mjmGTWa0"
      },
      "source": [
        "**word2vec with LinearSVC**"
      ]
    },
    {
      "cell_type": "code",
      "execution_count": null,
      "metadata": {
        "colab": {
          "base_uri": "https://localhost:8080/"
        },
        "id": "t1OJqLf0TjY1",
        "outputId": "2db5c867-1383-45bb-8f61-437515c0808f"
      },
      "outputs": [
        {
          "metadata": {
            "tags": null
          },
          "name": "stderr",
          "output_type": "stream",
          "text": [
            "/usr/local/lib/python3.10/dist-packages/sklearn/svm/_base.py:1244: ConvergenceWarning: Liblinear failed to converge, increase the number of iterations.\n",
            "  warnings.warn(\n",
            "/usr/local/lib/python3.10/dist-packages/sklearn/svm/_base.py:1244: ConvergenceWarning: Liblinear failed to converge, increase the number of iterations.\n",
            "  warnings.warn(\n",
            "/usr/local/lib/python3.10/dist-packages/sklearn/svm/_base.py:1244: ConvergenceWarning: Liblinear failed to converge, increase the number of iterations.\n",
            "  warnings.warn(\n",
            "/usr/local/lib/python3.10/dist-packages/sklearn/svm/_base.py:1244: ConvergenceWarning: Liblinear failed to converge, increase the number of iterations.\n",
            "  warnings.warn(\n",
            "/usr/local/lib/python3.10/dist-packages/sklearn/svm/_base.py:1244: ConvergenceWarning: Liblinear failed to converge, increase the number of iterations.\n",
            "  warnings.warn(\n",
            "/usr/local/lib/python3.10/dist-packages/sklearn/svm/_base.py:1244: ConvergenceWarning: Liblinear failed to converge, increase the number of iterations.\n",
            "  warnings.warn(\n"
          ]
        },
        {
          "metadata": {
            "tags": null
          },
          "name": "stdout",
          "output_type": "stream",
          "text": [
            "LinearSVC  Cross-Validation Accuracy:  0.5883103795767551\n"
          ]
        },
        {
          "output_type": "stream",
          "name": "stderr",
          "text": [
            "/usr/local/lib/python3.10/dist-packages/sklearn/svm/_base.py:1244: ConvergenceWarning: Liblinear failed to converge, increase the number of iterations.\n",
            "  warnings.warn(\n",
            "/usr/local/lib/python3.10/dist-packages/sklearn/svm/_base.py:1244: ConvergenceWarning: Liblinear failed to converge, increase the number of iterations.\n",
            "  warnings.warn(\n",
            "/usr/local/lib/python3.10/dist-packages/sklearn/svm/_base.py:1244: ConvergenceWarning: Liblinear failed to converge, increase the number of iterations.\n",
            "  warnings.warn(\n",
            "/usr/local/lib/python3.10/dist-packages/sklearn/svm/_base.py:1244: ConvergenceWarning: Liblinear failed to converge, increase the number of iterations.\n",
            "  warnings.warn(\n",
            "/usr/local/lib/python3.10/dist-packages/sklearn/svm/_base.py:1244: ConvergenceWarning: Liblinear failed to converge, increase the number of iterations.\n",
            "  warnings.warn(\n"
          ]
        },
        {
          "output_type": "stream",
          "name": "stdout",
          "text": [
            " Cross-Validation F1score:  0.5734994467118494\n",
            "Accuracy (LinearSVC): 0.6026200873362445\n",
            "F1 Score ->  0.5781199779494806\n",
            "Classification Report (LinearSVC):\n",
            "              precision    recall  f1-score   support\n",
            "\n",
            "    negative       0.56      0.14      0.22       456\n",
            "     neutral       0.62      0.73      0.67      1397\n",
            "    positive       0.58      0.63      0.61      1124\n",
            "\n",
            "    accuracy                           0.60      2977\n",
            "   macro avg       0.59      0.50      0.50      2977\n",
            "weighted avg       0.60      0.60      0.58      2977\n",
            "\n"
          ]
        }
      ],
      "source": [
        "from sklearn.svm import LinearSVC\n",
        "\n",
        "\n",
        "# Create a ModelPipeline instance with LinearSVC model\n",
        "model = ModelPipeline(transformer=scaler, estimator=LinearSVC(C=1,max_iter=1000))\n",
        "\n",
        "# Fit and predict using LinearSVC pipeline\n",
        "model.fit(x_train_w2v, y_train_w2v)\n",
        "y_pred_linear_svc = model.predict(x_test_w2v)\n",
        "\n",
        "bernoulli_cv_results = cross_val_score(model, X, y, cv=5, scoring='accuracy')\n",
        "print(\"LinearSVC  Cross-Validation Accuracy: \", np.mean(bernoulli_cv_results))\n",
        "f1_val= cross_val_score(model, X, y, cv=5, scoring='f1_weighted')\n",
        "print(\" Cross-Validation F1score: \", np.mean(f1_val))\n",
        "# Evaluate the model\n",
        "accuracy = accuracy_score(y_test_w2v, y_pred_linear_svc)\n",
        "print(\"Accuracy (LinearSVC):\", accuracy)\n",
        "f1 = f1_score(y_test_w2v, y_pred_linear_svc, average='weighted')\n",
        "print(\"F1 Score -> \", f1)\n",
        "print(\"Classification Report (LinearSVC):\")\n",
        "print(classification_report(y_test_w2v, y_pred_linear_svc))"
      ]
    },
    {
      "cell_type": "code",
      "execution_count": null,
      "metadata": {
        "colab": {
          "background_save": true
        },
        "id": "JRwiRWWbB6g2"
      },
      "outputs": [],
      "source": []
    },
    {
      "cell_type": "markdown",
      "metadata": {
        "id": "fL4esGqeUFtj"
      },
      "source": [
        "**word2vec with  RandomForest model**"
      ]
    },
    {
      "cell_type": "code",
      "execution_count": null,
      "metadata": {
        "colab": {
          "background_save": true
        },
        "id": "ODhF9xCrUNR7",
        "outputId": "a4269a28-ccca-497b-91b1-55bb615a12f1"
      },
      "outputs": [
        {
          "name": "stdout",
          "output_type": "stream",
          "text": [
            "RandomForestClassifier  Cross-Validation Accuracy:  0.5818609338259993\n",
            " Cross-Validation F1score:  0.5453558877566097\n",
            "Accuracy (RandomForestClassifier): 0.5861605643265032\n",
            "F1 Score ->  0.5554880089376347\n",
            "Classification Report (RandomForestClassifier):\n",
            "              precision    recall  f1-score   support\n",
            "\n",
            "    negative       0.46      0.10      0.17       458\n",
            "     neutral       0.59      0.76      0.66      1382\n",
            "    positive       0.59      0.57      0.58      1137\n",
            "\n",
            "    accuracy                           0.59      2977\n",
            "   macro avg       0.55      0.48      0.47      2977\n",
            "weighted avg       0.57      0.59      0.56      2977\n",
            "\n"
          ]
        }
      ],
      "source": [
        "from sklearn.ensemble import RandomForestClassifier\n",
        "\n",
        "model = ModelPipeline(transformer=scaler, estimator=RandomForestClassifier(n_estimators=100, max_depth=100, min_samples_split=2 ))\n",
        "\n",
        "# Fit and predict using RandomForestClassifier pipeline\n",
        "model.fit(x_train_w2v, y_train_w2v)\n",
        "y_pred_rf= model.predict(x_test_w2v)\n",
        "\n",
        "bernoulli_cv_results = cross_val_score(model, X, y, cv=5, scoring='accuracy')\n",
        "print(\"RandomForestClassifier  Cross-Validation Accuracy: \", np.mean(bernoulli_cv_results))\n",
        "f1_val= cross_val_score(model, X, y, cv=5, scoring='f1_weighted')\n",
        "print(\" Cross-Validation F1score: \", np.mean(f1_val))\n",
        "# Evaluate the model\n",
        "accuracy = accuracy_score(y_test_w2v, y_pred_rf)\n",
        "print(\"Accuracy (RandomForestClassifier):\", accuracy)\n",
        "f1 = f1_score(y_test_w2v, y_pred_rf, average='weighted')\n",
        "print(\"F1 Score -> \", f1)\n",
        "print(\"Classification Report (RandomForestClassifier):\")\n",
        "print(classification_report(y_test_w2v, y_pred_rf))\n"
      ]
    },
    {
      "cell_type": "markdown",
      "metadata": {
        "id": "_jEFdB9uUtzG"
      },
      "source": [
        "**word2vec with DecisionTree model**"
      ]
    },
    {
      "cell_type": "code",
      "execution_count": null,
      "metadata": {
        "colab": {
          "background_save": true
        },
        "id": "WzA0iskCU3zw",
        "outputId": "c6f05c1d-1a97-4644-dd74-bbf04ae8d354"
      },
      "outputs": [
        {
          "name": "stdout",
          "output_type": "stream",
          "text": [
            "DecisionTreeClassifier Cross-Validation Accuracy:  0.45831373866308367\n",
            " Cross-Validation F1score:  0.4545308009488892\n",
            "Accuracy: 0.4669129996640914\n",
            "F1 Score ->  0.46831407374683665\n",
            "Classification Report:\n",
            "              precision    recall  f1-score   support\n",
            "\n",
            "    negative       0.22      0.23      0.23       458\n",
            "     neutral       0.55      0.55      0.55      1382\n",
            "    positive       0.47      0.46      0.47      1137\n",
            "\n",
            "    accuracy                           0.47      2977\n",
            "   macro avg       0.41      0.41      0.41      2977\n",
            "weighted avg       0.47      0.47      0.47      2977\n",
            "\n"
          ]
        }
      ],
      "source": [
        "from sklearn.tree import DecisionTreeClassifier\n",
        "\n",
        "model = ModelPipeline(transformer=scaler, estimator=DecisionTreeClassifier(min_samples_split=2, criterion='gini'))\n",
        "\n",
        "model.fit(x_train_w2v, y_train_w2v)\n",
        "y_pred_dt = model.predict(x_test_w2v)\n",
        "\n",
        "bernoulli_cv_results = cross_val_score(model, X, y, cv=5, scoring='accuracy')\n",
        "print(\"DecisionTreeClassifier Cross-Validation Accuracy: \", np.mean(bernoulli_cv_results))\n",
        "f1_val= cross_val_score(model, X, y, cv=5, scoring='f1_weighted')\n",
        "print(\" Cross-Validation F1score: \", np.mean(f1_val))\n",
        "# Evaluate the model\n",
        "accuracy = accuracy_score(y_test_w2v, y_pred_dt)\n",
        "print(\"Accuracy:\", accuracy)\n",
        "f1 = f1_score(y_test_w2v, y_pred_dt, average='weighted')\n",
        "print(\"F1 Score -> \", f1)\n",
        "print(\"Classification Report:\")\n",
        "print(classification_report(y_test_w2v, y_pred_dt))"
      ]
    },
    {
      "cell_type": "code",
      "execution_count": null,
      "metadata": {
        "id": "x0pWARnetxme"
      },
      "outputs": [],
      "source": []
    },
    {
      "cell_type": "code",
      "execution_count": null,
      "metadata": {
        "colab": {
          "base_uri": "https://localhost:8080/"
        },
        "id": "nCJ0VNWjvobo",
        "outputId": "e5faf997-60be-4acd-da1c-ebc8836e0450"
      },
      "outputs": [
        {
          "name": "stdout",
          "output_type": "stream",
          "text": [
            "                                           Test case  Expected  Prediction\n",
            "0  serg amaz like he actual god lanki sex god saw...         2           2\n"
          ]
        }
      ],
      "source": [
        "first_tweet = df['Clean_Tweet'].iloc[18]\n",
        "expected_sentiment = df['Sentiment'].iloc[18]\n",
        "\n",
        "# Predict the sentiment of the first tweet\n",
        "predicted_sentiment = model3.predict([first_tweet])[0]\n",
        "\n",
        "# Display the results\n",
        "results_df = pd.DataFrame(\n",
        "    [[first_tweet, expected_sentiment, predicted_sentiment]],\n",
        "    columns=['Test case', 'Expected', 'Prediction']\n",
        ")\n",
        "\n",
        "print(results_df)"
      ]
    }
  ],
  "metadata": {
    "colab": {
      "provenance": [],
      "toc_visible": true
    },
    "kernelspec": {
      "display_name": "Python 3",
      "name": "python3"
    },
    "language_info": {
      "name": "python"
    }
  },
  "nbformat": 4,
  "nbformat_minor": 0
}